{
 "cells": [
  {
   "cell_type": "markdown",
   "id": "15da7ccc",
   "metadata": {},
   "source": [
    "# Format standardization\n",
    "\n",
    "The following code shows an example of data standardization to facilitate its exploitation, based on the same data used in the example of file *1_Access_binary_format_files*.\n",
    "\n",
    "In this case, the same page where the data were downloaded offers a document describing how to interpret the data provided: in this case, it is very convenient to translate all this contextual information into explicit information in the data, as will be seen in the case of the new “Severity” field or in the limitation of the possible values for those fields that have them defined as such."
   ]
  },
  {
   "cell_type": "code",
   "execution_count": 1,
   "id": "09bec527",
   "metadata": {},
   "outputs": [],
   "source": [
    "import pandas as pd\n",
    "import numpy as np"
   ]
  },
  {
   "cell_type": "markdown",
   "id": "9aac30e9",
   "metadata": {},
   "source": [
    "1. We read the previously saved data, having discarded certain columns in order to match the file downloaded in 2020, as it had undergone some modifications."
   ]
  },
  {
   "cell_type": "code",
   "execution_count": 2,
   "id": "b0282bc2",
   "metadata": {},
   "outputs": [],
   "source": [
    "accidentes = pd.read_parquet('./accidentes.parquet')"
   ]
  },
  {
   "cell_type": "code",
   "execution_count": 3,
   "id": "e4959f64",
   "metadata": {},
   "outputs": [
    {
     "data": {
      "text/plain": [
       "(51811, 13)"
      ]
     },
     "execution_count": 3,
     "metadata": {},
     "output_type": "execute_result"
    }
   ],
   "source": [
    "accidentes.shape"
   ]
  },
  {
   "cell_type": "markdown",
   "id": "03dc7f39",
   "metadata": {},
   "source": [
    "2. We generated a new field to code the severity levels according to “lesividad”, as specified in the data description document."
   ]
  },
  {
   "cell_type": "code",
   "execution_count": 4,
   "id": "342e56d7",
   "metadata": {},
   "outputs": [
    {
     "name": "stdout",
     "output_type": "stream",
     "text": [
      "<class 'pandas.core.frame.DataFrame'>\n",
      "RangeIndex: 51811 entries, 0 to 51810\n",
      "Data columns (total 13 columns):\n",
      " #   Column                Non-Null Count  Dtype         \n",
      "---  ------                --------------  -----         \n",
      " 0   num_expediente        51811 non-null  object        \n",
      " 1   fecha                 51811 non-null  datetime64[ns]\n",
      " 2   hora                  51811 non-null  object        \n",
      " 3   localizacion          51811 non-null  object        \n",
      " 4   numero                51811 non-null  object        \n",
      " 5   distrito              51811 non-null  object        \n",
      " 6   tipo_accidente        51811 non-null  object        \n",
      " 7   estado_meteorológico  46681 non-null  object        \n",
      " 8   tipo_vehiculo         51635 non-null  object        \n",
      " 9   tipo_persona          51811 non-null  object        \n",
      " 10  rango_edad            46517 non-null  object        \n",
      " 11  sexo                  46768 non-null  object        \n",
      " 12  cod_lesividad         30042 non-null  float64       \n",
      "dtypes: datetime64[ns](1), float64(1), object(11)\n",
      "memory usage: 5.1+ MB\n"
     ]
    }
   ],
   "source": [
    "accidentes.info()"
   ]
  },
  {
   "cell_type": "code",
   "execution_count": 5,
   "id": "cd58aa87",
   "metadata": {},
   "outputs": [
    {
     "data": {
      "text/plain": [
       "21769"
      ]
     },
     "execution_count": 5,
     "metadata": {},
     "output_type": "execute_result"
    }
   ],
   "source": [
    "accidentes.cod_lesividad.isnull().sum()"
   ]
  },
  {
   "cell_type": "code",
   "execution_count": 6,
   "id": "c72d0dbf",
   "metadata": {},
   "outputs": [],
   "source": [
    "c_gravedad = pd.api.types.CategoricalDtype(categories = ['Ileso', 'Leve', 'Grave','Fallecido'], ordered = True)"
   ]
  },
  {
   "cell_type": "code",
   "execution_count": 7,
   "id": "2e53856d",
   "metadata": {},
   "outputs": [],
   "source": [
    "dict_gravedad = {14.0: 'Ileso', 3.0: 'Grave', 4.0: 'Fallecido'}"
   ]
  },
  {
   "cell_type": "code",
   "execution_count": 8,
   "id": "76224bca",
   "metadata": {},
   "outputs": [],
   "source": [
    "accidentes['gravedad'] = accidentes['cod_lesividad'].apply(\n",
    "lambda x: dict_gravedad.get(x, 'Leve') if ~np.isnan(x) else 'Ileso').astype(c_gravedad)"
   ]
  },
  {
   "cell_type": "markdown",
   "id": "ae298d1e",
   "metadata": {},
   "source": [
    "3. We decode the time and add it to the date to have a date-time type field, easier to use."
   ]
  },
  {
   "cell_type": "code",
   "execution_count": 9,
   "id": "a1652b35",
   "metadata": {},
   "outputs": [],
   "source": [
    "# Convert the column 'hora' to a datetime object\n",
    "accidentes['hora'] = pd.to_datetime(accidentes['hora'], format = '%H:%M:%S').dt.strftime('%H:%M:%S')"
   ]
  },
  {
   "cell_type": "code",
   "execution_count": 10,
   "id": "0f71b6b6",
   "metadata": {},
   "outputs": [],
   "source": [
    "# Combine the column 'fecha' and 'hora'.\n",
    "accidentes['fecha'] += pd.to_timedelta(accidentes['hora'])"
   ]
  },
  {
   "cell_type": "code",
   "execution_count": 11,
   "id": "e7aac526",
   "metadata": {},
   "outputs": [],
   "source": [
    "# We eliminate columns that are no longer needed\n",
    "accidentes = accidentes.drop(columns = ['hora', 'localizacion', 'numero'])"
   ]
  },
  {
   "cell_type": "markdown",
   "id": "4a2c2007",
   "metadata": {},
   "source": [
    "4. We convert all columns starting from the third one into categorical types."
   ]
  },
  {
   "cell_type": "code",
   "execution_count": 12,
   "id": "b4e6f79c",
   "metadata": {},
   "outputs": [],
   "source": [
    "accidentes.iloc[:,2:] = accidentes.iloc[:,2:].astype('category')"
   ]
  },
  {
   "cell_type": "code",
   "execution_count": 13,
   "id": "c84c75cb",
   "metadata": {},
   "outputs": [
    {
     "data": {
      "text/html": [
       "<div>\n",
       "<style scoped>\n",
       "    .dataframe tbody tr th:only-of-type {\n",
       "        vertical-align: middle;\n",
       "    }\n",
       "\n",
       "    .dataframe tbody tr th {\n",
       "        vertical-align: top;\n",
       "    }\n",
       "\n",
       "    .dataframe thead th {\n",
       "        text-align: right;\n",
       "    }\n",
       "</style>\n",
       "<table border=\"1\" class=\"dataframe\">\n",
       "  <thead>\n",
       "    <tr style=\"text-align: right;\">\n",
       "      <th></th>\n",
       "      <th>num_expediente</th>\n",
       "      <th>fecha</th>\n",
       "      <th>distrito</th>\n",
       "      <th>tipo_accidente</th>\n",
       "      <th>estado_meteorológico</th>\n",
       "      <th>tipo_vehiculo</th>\n",
       "      <th>tipo_persona</th>\n",
       "      <th>rango_edad</th>\n",
       "      <th>sexo</th>\n",
       "      <th>cod_lesividad</th>\n",
       "      <th>gravedad</th>\n",
       "    </tr>\n",
       "  </thead>\n",
       "  <tbody>\n",
       "    <tr>\n",
       "      <th>0</th>\n",
       "      <td>2018S017842</td>\n",
       "      <td>2019-04-02 09:10:00</td>\n",
       "      <td>CENTRO</td>\n",
       "      <td>Colisión lateral</td>\n",
       "      <td>Despejado</td>\n",
       "      <td>Motocicleta &gt; 125cc</td>\n",
       "      <td>Conductor</td>\n",
       "      <td>De 45 a 49 años</td>\n",
       "      <td>Hombre</td>\n",
       "      <td>7.0</td>\n",
       "      <td>Leve</td>\n",
       "    </tr>\n",
       "    <tr>\n",
       "      <th>1</th>\n",
       "      <td>2018S017842</td>\n",
       "      <td>2019-04-02 09:10:00</td>\n",
       "      <td>CENTRO</td>\n",
       "      <td>Colisión lateral</td>\n",
       "      <td>Despejado</td>\n",
       "      <td>Turismo</td>\n",
       "      <td>Conductor</td>\n",
       "      <td>De 30 a 34 años</td>\n",
       "      <td>Mujer</td>\n",
       "      <td>7.0</td>\n",
       "      <td>Leve</td>\n",
       "    </tr>\n",
       "    <tr>\n",
       "      <th>2</th>\n",
       "      <td>2019S000001</td>\n",
       "      <td>2019-01-01 03:45:00</td>\n",
       "      <td>CARABANCHEL</td>\n",
       "      <td>Alcance</td>\n",
       "      <td>NaN</td>\n",
       "      <td>Furgoneta</td>\n",
       "      <td>Conductor</td>\n",
       "      <td>De 40 a 44 años</td>\n",
       "      <td>Hombre</td>\n",
       "      <td>NaN</td>\n",
       "      <td>Ileso</td>\n",
       "    </tr>\n",
       "    <tr>\n",
       "      <th>3</th>\n",
       "      <td>2019S000001</td>\n",
       "      <td>2019-01-01 03:45:00</td>\n",
       "      <td>CARABANCHEL</td>\n",
       "      <td>Alcance</td>\n",
       "      <td>NaN</td>\n",
       "      <td>Turismo</td>\n",
       "      <td>Conductor</td>\n",
       "      <td>De 40 a 44 años</td>\n",
       "      <td>Mujer</td>\n",
       "      <td>NaN</td>\n",
       "      <td>Ileso</td>\n",
       "    </tr>\n",
       "    <tr>\n",
       "      <th>4</th>\n",
       "      <td>2019S000001</td>\n",
       "      <td>2019-01-01 03:45:00</td>\n",
       "      <td>CARABANCHEL</td>\n",
       "      <td>Alcance</td>\n",
       "      <td>NaN</td>\n",
       "      <td>Turismo</td>\n",
       "      <td>Conductor</td>\n",
       "      <td>De 45 a 49 años</td>\n",
       "      <td>Mujer</td>\n",
       "      <td>NaN</td>\n",
       "      <td>Ileso</td>\n",
       "    </tr>\n",
       "  </tbody>\n",
       "</table>\n",
       "</div>"
      ],
      "text/plain": [
       "  num_expediente               fecha     distrito    tipo_accidente  \\\n",
       "0    2018S017842 2019-04-02 09:10:00       CENTRO  Colisión lateral   \n",
       "1    2018S017842 2019-04-02 09:10:00       CENTRO  Colisión lateral   \n",
       "2    2019S000001 2019-01-01 03:45:00  CARABANCHEL           Alcance   \n",
       "3    2019S000001 2019-01-01 03:45:00  CARABANCHEL           Alcance   \n",
       "4    2019S000001 2019-01-01 03:45:00  CARABANCHEL           Alcance   \n",
       "\n",
       "  estado_meteorológico        tipo_vehiculo tipo_persona       rango_edad  \\\n",
       "0            Despejado  Motocicleta > 125cc    Conductor  De 45 a 49 años   \n",
       "1            Despejado              Turismo    Conductor  De 30 a 34 años   \n",
       "2                  NaN            Furgoneta    Conductor  De 40 a 44 años   \n",
       "3                  NaN              Turismo    Conductor  De 40 a 44 años   \n",
       "4                  NaN              Turismo    Conductor  De 45 a 49 años   \n",
       "\n",
       "     sexo cod_lesividad gravedad  \n",
       "0  Hombre           7.0     Leve  \n",
       "1   Mujer           7.0     Leve  \n",
       "2  Hombre           NaN    Ileso  \n",
       "3   Mujer           NaN    Ileso  \n",
       "4   Mujer           NaN    Ileso  "
      ]
     },
     "execution_count": 13,
     "metadata": {},
     "output_type": "execute_result"
    }
   ],
   "source": [
    "accidentes[:5]"
   ]
  },
  {
   "cell_type": "code",
   "execution_count": 14,
   "id": "e0f12c6f",
   "metadata": {},
   "outputs": [],
   "source": [
    "accidentes.to_parquet('./accidentes1.parquet')"
   ]
  },
  {
   "cell_type": "code",
   "execution_count": 15,
   "id": "754963a6",
   "metadata": {},
   "outputs": [
    {
     "data": {
      "text/plain": [
       "Ileso        38378\n",
       "Leve         12860\n",
       "Grave          539\n",
       "Fallecido       34\n",
       "Name: gravedad, dtype: int64"
      ]
     },
     "execution_count": 15,
     "metadata": {},
     "output_type": "execute_result"
    }
   ],
   "source": [
    "accidentes['gravedad'].value_counts()"
   ]
  },
  {
   "cell_type": "markdown",
   "id": "e2ccb131",
   "metadata": {},
   "source": [
    "The penultimate lines of the code require a little explanation.\n",
    "\n",
    "- The data interpretation document gives a definition of the different possible values of the “LESIVIDAD*” field, and adds that value 3 is considered “grave”, value 14 is considered “uninjured”, value 4 corresponds to the death of the injured person, and all other values are considered “leve”.\n",
    "\n",
    "- In another part of the document, it is specified that if the injury value is not present, it is because there was no victim in the accident requiring medical attention (which we are going to consider here as “Ileso”, although it could be that in some cases it was “Leve”).\n",
    "\n",
    "- All the gibberish in that document is translated into three lines of code, and once the new “GRAVEDAD” field is created (which does not add any information that was not present in the original data, of course) it is not necessary to consider it again during the rest of the analyses made with that data.\n",
    "\n",
    "- In addition, the order of the injury codes is arbitrary, while the severity codes are ordered, making it possible to compare them and do analyses such as “in what percentage of accidents between a car and a motorcycle the severity of the motorcycle driver is greater than that of any of the occupants of the car”, for example.\n",
    "\n",
    "This is an example of a highly recommended practice in data analysis: translating implicit codings into explicit ones, and translating confusing codings into codings that are easy to understand and use."
   ]
  }
 ],
 "metadata": {
  "kernelspec": {
   "display_name": "Python 3 (ipykernel)",
   "language": "python",
   "name": "python3"
  },
  "language_info": {
   "codemirror_mode": {
    "name": "ipython",
    "version": 3
   },
   "file_extension": ".py",
   "mimetype": "text/x-python",
   "name": "python",
   "nbconvert_exporter": "python",
   "pygments_lexer": "ipython3",
   "version": "3.7.12"
  }
 },
 "nbformat": 4,
 "nbformat_minor": 5
}
