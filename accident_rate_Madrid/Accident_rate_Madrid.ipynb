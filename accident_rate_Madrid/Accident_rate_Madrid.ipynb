{
 "cells": [
  {
   "cell_type": "markdown",
   "metadata": {},
   "source": [
    "# Data loading and data cleaning (Madrid accident data)"
   ]
  },
  {
   "cell_type": "code",
   "execution_count": 33,
   "metadata": {},
   "outputs": [],
   "source": [
    "import pandas as pd\n",
    "import numpy as np\n",
    "import altair as alt\n",
    "import os.path\n",
    "import urllib.request"
   ]
  },
  {
   "cell_type": "markdown",
   "metadata": {},
   "source": [
    "## Case description"
   ]
  },
  {
   "cell_type": "markdown",
   "metadata": {},
   "source": [
    "In this case study we access public data and perform an exploratory analysis and data cleaning and preparation.\n",
    "The data to be analyzed correspond to traffic accidents in the city of Madrid, which are available through the open data portal of the Madrid City Council. It is a dataset with multiple dimensions of different types and a small cardinality, so it is simple to manipulate but rich."
   ]
  },
  {
   "cell_type": "markdown",
   "metadata": {},
   "source": [
    "## Descarga de los datos"
   ]
  },
  {
   "cell_type": "markdown",
   "metadata": {},
   "source": [
    "First we show how to download the data and store them locally. This step does not need to be repeated each time this code is run, so we first check if the files already exist so as not to download them again.\n",
    "\n",
    "(In this example, this means of accessing the data is commented out, and is replaced by a local access, so that it is possible to run the notebook even without an internet connection or even if the site datos.madrid.es is no longer available. However, it is shown here for didactic purposes)."
   ]
  },
  {
   "cell_type": "code",
   "execution_count": 2,
   "metadata": {},
   "outputs": [],
   "source": [
    "# If the 'data' directory does not exist, we create it\n",
    "\n",
    "# if not os.path.exists('./datos'):\n",
    "#     os.makedirs('./datos')\n",
    "\n",
    "# # URLs of the data to be accessed and name of the files in which to save them\n",
    "# URL_DATOS_ACCIDENTES = 'https://datos.madrid.es/egob/catalogo/300228-19-accidentes-trafico-detalle.csv'\n",
    "# PATH_DATOS_ACCIDENTES = './datos/accidentes2019.csv'\n",
    "\n",
    "# # The municipality offers a small document with the description of the data, \n",
    "# # which we take the opportunity to download as well.\n",
    "# # (From Jupyter Lab, just double click on the file name in the left panel \n",
    "# # so that it opens in a new tab)\n",
    "# URL_PDF_ACCIDENTES = \n",
    "# 'https://datos.madrid.es/FWProjects/egob/Catalogo/Seguridad/Ficheros/Estructura_DS_Accidentes_trafico_desde_2019.pdf'\n",
    "# PATH_PDF_ACCIDENTES = './datos/accidentes2019.pdf'\n",
    "\n",
    "# if not os.path.exists(PATH_DATOS_ACCIDENTES):\n",
    "#     urllib.request.urlretrieve(URL_DATOS_ACCIDENTES, PATH_DATOS_ACCIDENTES)\n",
    "    \n",
    "# if not os.path.exists(PATH_PDF_ACCIDENTES):\n",
    "#     urllib.request.urlretrieve(URL_PDF_ACCIDENTES, PATH_PDF_ACCIDENTES)"
   ]
  },
  {
   "cell_type": "markdown",
   "metadata": {},
   "source": [
    "## Data reading"
   ]
  },
  {
   "cell_type": "markdown",
   "metadata": {},
   "source": [
    "Once the data is downloaded, which in this case is in csv format, the easiest thing to do is to load it in a Pandas DataFrame to proceed with an initial exploration. In this particular case, for this load to work correctly it is necessary to specify the encoding of the csv file, since it does not use the usual UTF-8 standard but contains special characters (“special” for the ASCII standard, such as the letter eñe or accented vowels)."
   ]
  },
  {
   "cell_type": "markdown",
   "metadata": {},
   "source": [
    "First, we look at the first lines of the file, to get an idea of its contents"
   ]
  },
  {
   "cell_type": "code",
   "execution_count": 35,
   "metadata": {},
   "outputs": [
    {
     "name": "stdout",
     "output_type": "stream",
     "text": [
      "Nº  EXPEDIENTE;FECHA;HORA;CALLE;NÚMERO;DISTRITO;TIPO ACCIDENTE;ESTADO METEREOLÓGICO;TIPO VEHÍCULO;TIPO PERSONA;RANGO EDAD;SEXO;LESIVIDAD*;* La correspondencia de los códigos se encuentra descrito en la estructura del fichero.\n",
      "\n",
      "2019S000020;01/01/2019;23:30;CALL. FUENCARRAL;149;CHAMBERÍ;Caída;Despejado;Ciclomotor;Conductor;DE 25 A 29 AÑOS;Hombre;01;\n",
      "\n",
      "2019S000017;01/01/2019;22:15;CALL. OCA / CALL. PINZON;-;CARABANCHEL;Colisión fronto-lateral;Despejado;Turismo;Conductor;DE 40 A 44 AÑOS;Mujer;14;\n",
      "\n",
      "2019S000017;01/01/2019;22:15;CALL. OCA / CALL. PINZON;-;CARABANCHEL;Colisión fronto-lateral;Despejado;Ciclomotor;Conductor;DE 35 A 39 AÑOS;Hombre;03;\n",
      "\n",
      "2019S001812;01/01/2019;21:40;CALL. BAILEN / CUSTA. SAN VICENTE;-;CENTRO;Colisión fronto-lateral;Despejado;Turismo;Conductor;DE 40 A 44 AÑOS;Hombre;14;\n",
      "\n"
     ]
    }
   ],
   "source": [
    "with open('./datos/accidentes2019.csv', encoding = 'latin1') as f:\n",
    "    for _ in range(5) : print(f.readline())"
   ]
  },
  {
   "cell_type": "markdown",
   "metadata": {},
   "source": [
    "From this initial inspection we can draw some conclusions (which could also be obtained by trial and error with pd.read_csv():\n",
    "- The field separator is the ; character (this is usual in csv files in Spain, where the comma is used to separate the decimal part of the numbers).\n",
    "- The first line of the file contains the field names, as usual in many csv files.\n",
    "- The second field, “DATE”, is a date type data, and the third, “TIME” is a time of day.\n",
    "- There is a comment at the end of the first row, which would be interpreted as the name of one more column of data, which would need to be deleted.\n",
    "\n",
    "Next, we read the raw data into a Pandas dataframe, so that we can process it more comfortably, and we show the first five rows of data and a general description of the dataframe contents"
   ]
  },
  {
   "cell_type": "code",
   "execution_count": 36,
   "metadata": {},
   "outputs": [
    {
     "data": {
      "text/html": [
       "<div>\n",
       "<style scoped>\n",
       "    .dataframe tbody tr th:only-of-type {\n",
       "        vertical-align: middle;\n",
       "    }\n",
       "\n",
       "    .dataframe tbody tr th {\n",
       "        vertical-align: top;\n",
       "    }\n",
       "\n",
       "    .dataframe thead th {\n",
       "        text-align: right;\n",
       "    }\n",
       "</style>\n",
       "<table border=\"1\" class=\"dataframe\">\n",
       "  <thead>\n",
       "    <tr style=\"text-align: right;\">\n",
       "      <th></th>\n",
       "      <th>Nº  EXPEDIENTE</th>\n",
       "      <th>FECHA</th>\n",
       "      <th>HORA</th>\n",
       "      <th>CALLE</th>\n",
       "      <th>NÚMERO</th>\n",
       "      <th>DISTRITO</th>\n",
       "      <th>TIPO ACCIDENTE</th>\n",
       "      <th>ESTADO METEREOLÓGICO</th>\n",
       "      <th>TIPO VEHÍCULO</th>\n",
       "      <th>TIPO PERSONA</th>\n",
       "      <th>RANGO EDAD</th>\n",
       "      <th>SEXO</th>\n",
       "      <th>LESIVIDAD*</th>\n",
       "      <th>* La correspondencia de los códigos se encuentra descrito en la estructura del fichero.</th>\n",
       "    </tr>\n",
       "  </thead>\n",
       "  <tbody>\n",
       "    <tr>\n",
       "      <th>0</th>\n",
       "      <td>2019S000020</td>\n",
       "      <td>01/01/2019</td>\n",
       "      <td>23:30</td>\n",
       "      <td>CALL. FUENCARRAL</td>\n",
       "      <td>149</td>\n",
       "      <td>CHAMBERÍ</td>\n",
       "      <td>Caída</td>\n",
       "      <td>Despejado</td>\n",
       "      <td>Ciclomotor</td>\n",
       "      <td>Conductor</td>\n",
       "      <td>DE 25 A 29 AÑOS</td>\n",
       "      <td>Hombre</td>\n",
       "      <td>1.0</td>\n",
       "      <td>NaN</td>\n",
       "    </tr>\n",
       "    <tr>\n",
       "      <th>1</th>\n",
       "      <td>2019S000017</td>\n",
       "      <td>01/01/2019</td>\n",
       "      <td>22:15</td>\n",
       "      <td>CALL. OCA / CALL. PINZON</td>\n",
       "      <td>-</td>\n",
       "      <td>CARABANCHEL</td>\n",
       "      <td>Colisión fronto-lateral</td>\n",
       "      <td>Despejado</td>\n",
       "      <td>Turismo</td>\n",
       "      <td>Conductor</td>\n",
       "      <td>DE 40 A 44 AÑOS</td>\n",
       "      <td>Mujer</td>\n",
       "      <td>14.0</td>\n",
       "      <td>NaN</td>\n",
       "    </tr>\n",
       "    <tr>\n",
       "      <th>2</th>\n",
       "      <td>2019S000017</td>\n",
       "      <td>01/01/2019</td>\n",
       "      <td>22:15</td>\n",
       "      <td>CALL. OCA / CALL. PINZON</td>\n",
       "      <td>-</td>\n",
       "      <td>CARABANCHEL</td>\n",
       "      <td>Colisión fronto-lateral</td>\n",
       "      <td>Despejado</td>\n",
       "      <td>Ciclomotor</td>\n",
       "      <td>Conductor</td>\n",
       "      <td>DE 35 A 39 AÑOS</td>\n",
       "      <td>Hombre</td>\n",
       "      <td>3.0</td>\n",
       "      <td>NaN</td>\n",
       "    </tr>\n",
       "    <tr>\n",
       "      <th>3</th>\n",
       "      <td>2019S001812</td>\n",
       "      <td>01/01/2019</td>\n",
       "      <td>21:40</td>\n",
       "      <td>CALL. BAILEN / CUSTA. SAN VICENTE</td>\n",
       "      <td>-</td>\n",
       "      <td>CENTRO</td>\n",
       "      <td>Colisión fronto-lateral</td>\n",
       "      <td>Despejado</td>\n",
       "      <td>Turismo</td>\n",
       "      <td>Conductor</td>\n",
       "      <td>DE 40 A 44 AÑOS</td>\n",
       "      <td>Hombre</td>\n",
       "      <td>14.0</td>\n",
       "      <td>NaN</td>\n",
       "    </tr>\n",
       "    <tr>\n",
       "      <th>4</th>\n",
       "      <td>2019S001812</td>\n",
       "      <td>01/01/2019</td>\n",
       "      <td>21:40</td>\n",
       "      <td>CALL. BAILEN / CUSTA. SAN VICENTE</td>\n",
       "      <td>-</td>\n",
       "      <td>CENTRO</td>\n",
       "      <td>Colisión fronto-lateral</td>\n",
       "      <td>Despejado</td>\n",
       "      <td>Turismo</td>\n",
       "      <td>Conductor</td>\n",
       "      <td>DE 30 A 34 AÑOS</td>\n",
       "      <td>Mujer</td>\n",
       "      <td>7.0</td>\n",
       "      <td>NaN</td>\n",
       "    </tr>\n",
       "  </tbody>\n",
       "</table>\n",
       "</div>"
      ],
      "text/plain": [
       "  Nº  EXPEDIENTE       FECHA   HORA                              CALLE NÚMERO  \\\n",
       "0    2019S000020  01/01/2019  23:30                   CALL. FUENCARRAL    149   \n",
       "1    2019S000017  01/01/2019  22:15           CALL. OCA / CALL. PINZON      -   \n",
       "2    2019S000017  01/01/2019  22:15           CALL. OCA / CALL. PINZON      -   \n",
       "3    2019S001812  01/01/2019  21:40  CALL. BAILEN / CUSTA. SAN VICENTE      -   \n",
       "4    2019S001812  01/01/2019  21:40  CALL. BAILEN / CUSTA. SAN VICENTE      -   \n",
       "\n",
       "      DISTRITO           TIPO ACCIDENTE ESTADO METEREOLÓGICO TIPO VEHÍCULO  \\\n",
       "0     CHAMBERÍ                    Caída            Despejado    Ciclomotor   \n",
       "1  CARABANCHEL  Colisión fronto-lateral            Despejado       Turismo   \n",
       "2  CARABANCHEL  Colisión fronto-lateral            Despejado    Ciclomotor   \n",
       "3       CENTRO  Colisión fronto-lateral            Despejado       Turismo   \n",
       "4       CENTRO  Colisión fronto-lateral            Despejado       Turismo   \n",
       "\n",
       "  TIPO PERSONA       RANGO EDAD    SEXO  LESIVIDAD*  \\\n",
       "0    Conductor  DE 25 A 29 AÑOS  Hombre         1.0   \n",
       "1    Conductor  DE 40 A 44 AÑOS   Mujer        14.0   \n",
       "2    Conductor  DE 35 A 39 AÑOS  Hombre         3.0   \n",
       "3    Conductor  DE 40 A 44 AÑOS  Hombre        14.0   \n",
       "4    Conductor  DE 30 A 34 AÑOS   Mujer         7.0   \n",
       "\n",
       "   * La correspondencia de los códigos se encuentra descrito en la estructura del fichero.  \n",
       "0                                                NaN                                        \n",
       "1                                                NaN                                        \n",
       "2                                                NaN                                        \n",
       "3                                                NaN                                        \n",
       "4                                                NaN                                        "
      ]
     },
     "execution_count": 36,
     "metadata": {},
     "output_type": "execute_result"
    }
   ],
   "source": [
    "accidentes_raw = pd.read_csv('./datos/accidentes2019.csv', encoding = 'latin1', sep = ';')\n",
    "accidentes_raw.head(5)"
   ]
  },
  {
   "cell_type": "code",
   "execution_count": 37,
   "metadata": {},
   "outputs": [
    {
     "name": "stdout",
     "output_type": "stream",
     "text": [
      "<class 'pandas.core.frame.DataFrame'>\n",
      "RangeIndex: 51806 entries, 0 to 51805\n",
      "Data columns (total 14 columns):\n",
      " #   Column                                                                                   Non-Null Count  Dtype  \n",
      "---  ------                                                                                   --------------  -----  \n",
      " 0   Nº  EXPEDIENTE                                                                           51806 non-null  object \n",
      " 1   FECHA                                                                                    51806 non-null  object \n",
      " 2   HORA                                                                                     51806 non-null  object \n",
      " 3   CALLE                                                                                    51806 non-null  object \n",
      " 4   NÚMERO                                                                                   51802 non-null  object \n",
      " 5   DISTRITO                                                                                 51801 non-null  object \n",
      " 6   TIPO ACCIDENTE                                                                           51804 non-null  object \n",
      " 7   ESTADO METEREOLÓGICO                                                                     46674 non-null  object \n",
      " 8   TIPO VEHÍCULO                                                                            51628 non-null  object \n",
      " 9   TIPO PERSONA                                                                             51781 non-null  object \n",
      " 10  RANGO EDAD                                                                               51806 non-null  object \n",
      " 11  SEXO                                                                                     46756 non-null  object \n",
      " 12  LESIVIDAD*                                                                               30030 non-null  float64\n",
      " 13  * La correspondencia de los códigos se encuentra descrito en la estructura del fichero.  0 non-null      float64\n",
      "dtypes: float64(2), object(12)\n",
      "memory usage: 5.5+ MB\n"
     ]
    }
   ],
   "source": [
    "accidentes_raw.info()"
   ]
  },
  {
   "cell_type": "markdown",
   "metadata": {},
   "source": [
    "Indeed, we see that a last column has appeared with all the NaN (“Not a Number”) values that we can ignore."
   ]
  },
  {
   "cell_type": "markdown",
   "metadata": {},
   "source": [
    "## Data cleaning"
   ]
  },
  {
   "cell_type": "markdown",
   "metadata": {},
   "source": [
    "We are going to analyze and clean column by column, since we see that each one is a different case. To make it easier, we write a small function that provides us with the most relevant data for this cleanup"
   ]
  },
  {
   "cell_type": "code",
   "execution_count": 38,
   "metadata": {},
   "outputs": [],
   "source": [
    "def describe_columna(df, col):\n",
    "    print(f'Columna: {col}  -  Tipo de datos: {df[col].dtype}')\n",
    "    print(f'Número de valores nulos: {df[col].isnull().sum()}  -  Número de valores distintos: {df[col].nunique()}')\n",
    "    print('Valores más frecuentes:')\n",
    "    for i, v in df[col].value_counts().iloc[:10].items() :\n",
    "        print(i, '\\t', v)"
   ]
  },
  {
   "cell_type": "code",
   "execution_count": 39,
   "metadata": {},
   "outputs": [
    {
     "name": "stdout",
     "output_type": "stream",
     "text": [
      "Columna: Nº  EXPEDIENTE  -  Tipo de datos: object\n",
      "Número de valores nulos: 0  -  Número de valores distintos: 21935\n",
      "Valores más frecuentes:\n",
      "2019S036555 \t 13\n",
      "2019S032214 \t 12\n",
      "2019S038336 \t 12\n",
      "2019S029891 \t 12\n",
      "2019S000625 \t 12\n",
      "2019S028162 \t 12\n",
      "2019S013324 \t 12\n",
      "2019S017281 \t 11\n",
      "2019S022408 \t 11\n",
      "2019S024660 \t 11\n"
     ]
    }
   ],
   "source": [
    "describe_columna(accidentes_raw, 'Nº  EXPEDIENTE')"
   ]
  },
  {
   "cell_type": "markdown",
   "metadata": {},
   "source": [
    "Nothing particularly interesting in this column. We see that the file number is not unique (the most used value, the first in the list of values, is used a total of 13 times): reading the data description document, or simply inspecting the data, we can see that the file number identifies an accident, but it may have involved several vehicles or more than one person, and for each of them there is a line in this file. The number of accidents, therefore, is not the number of rows in the file, but the number of unique values in the Dossier 'Nº EXPEDIENTE' field.\n",
    "\n",
    "For the field-by-field cleanup, we will create a new dataframe to which we will assign each column already processed. In this case, the only change we make is to correct the field name so that it does not have a double space between 'Nº' and 'EXPEDIENTE', and to change the name to lowercase."
   ]
  },
  {
   "cell_type": "code",
   "execution_count": 40,
   "metadata": {},
   "outputs": [],
   "source": [
    "accidentes = pd.DataFrame()\n",
    "accidentes['Nº Expediente'] = accidentes_raw['Nº  EXPEDIENTE']"
   ]
  },
  {
   "cell_type": "markdown",
   "metadata": {},
   "source": [
    "Next column..."
   ]
  },
  {
   "cell_type": "code",
   "execution_count": 41,
   "metadata": {},
   "outputs": [
    {
     "name": "stdout",
     "output_type": "stream",
     "text": [
      "Columna: FECHA  -  Tipo de datos: object\n",
      "Número de valores nulos: 0  -  Número de valores distintos: 365\n",
      "Valores más frecuentes:\n",
      "05/04/2019 \t 272\n",
      "31/05/2019 \t 239\n",
      "24/04/2019 \t 234\n",
      "20/12/2019 \t 229\n",
      "01/02/2019 \t 229\n",
      "12/12/2019 \t 226\n",
      "22/02/2019 \t 212\n",
      "19/01/2019 \t 210\n",
      "04/10/2019 \t 209\n",
      "31/10/2019 \t 207\n",
      "\n",
      "Columna: HORA  -  Tipo de datos: object\n",
      "Número de valores nulos: 0  -  Número de valores distintos: 1213\n",
      "Valores más frecuentes:\n",
      "18:00 \t 464\n",
      "19:30 \t 457\n",
      "16:00 \t 452\n",
      "20:00 \t 452\n",
      "18:30 \t 441\n",
      "17:00 \t 424\n",
      "13:00 \t 421\n",
      "21:00 \t 405\n",
      "14:30 \t 395\n",
      "14:00 \t 395\n"
     ]
    }
   ],
   "source": [
    "describe_columna(accidentes_raw, 'FECHA')\n",
    "print()\n",
    "describe_columna(accidentes_raw, 'HORA')"
   ]
  },
  {
   "cell_type": "markdown",
   "metadata": {},
   "source": [
    "We see that both dates and times have been read as data type “object”, which is the way Pandas identifies character strings (at least, until version 1.0, from which there is a specific type, string, for character strings). To make it easier to operate with them, we transform them to data type “datetime” and put them together in a single field that includes both date and time (to be able to sort the accidents, easily search all accidents between any two concrete instants, etc.)."
   ]
  },
  {
   "cell_type": "code",
   "execution_count": 42,
   "metadata": {},
   "outputs": [],
   "source": [
    "accidentes['Fecha'] = pd.to_datetime(accidentes_raw.FECHA) + \\\n",
    "                      pd.to_timedelta(accidentes_raw.HORA + ':00')"
   ]
  },
  {
   "cell_type": "markdown",
   "metadata": {},
   "source": [
    "Next columns..."
   ]
  },
  {
   "cell_type": "code",
   "execution_count": 43,
   "metadata": {},
   "outputs": [
    {
     "name": "stdout",
     "output_type": "stream",
     "text": [
      "Columna: CALLE  -  Tipo de datos: object\n",
      "Número de valores nulos: 0  -  Número de valores distintos: 10456\n",
      "Valores más frecuentes:\n",
      "PASEO. CASTELLANA \t 719\n",
      "CALL. ALCALA \t 646\n",
      "CALL. BRAVO MURILLO \t 265\n",
      "AVDA. ALBUFERA \t 264\n",
      "CALL. FRANCISCO SILVELA \t 179\n",
      "CALL. SERRANO \t 177\n",
      "PASEO. SANTA MARIA DE LA CABEZA \t 169\n",
      "PASEO. EXTREMADURA \t 167\n",
      "CALL. PRINCIPE DE VERGARA \t 167\n",
      "CALL. DOCTOR ESQUERDO \t 153\n"
     ]
    }
   ],
   "source": [
    "describe_columna(accidentes_raw, 'CALLE')"
   ]
  },
  {
   "cell_type": "code",
   "execution_count": 44,
   "metadata": {},
   "outputs": [],
   "source": [
    "accidentes['Calle'] = accidentes_raw['CALLE']"
   ]
  },
  {
   "cell_type": "code",
   "execution_count": 45,
   "metadata": {},
   "outputs": [
    {
     "name": "stdout",
     "output_type": "stream",
     "text": [
      "Columna: NÚMERO  -  Tipo de datos: object\n",
      "Número de valores nulos: 4  -  Número de valores distintos: 604\n",
      "Valores más frecuentes:\n",
      "- \t 28523\n",
      "1 \t 1489\n",
      "2 \t 1077\n",
      "3 \t 701\n",
      "4 \t 642\n",
      "0 \t 519\n",
      "7 \t 494\n",
      "5 \t 448\n",
      "8 \t 421\n",
      "6 \t 388\n"
     ]
    }
   ],
   "source": [
    "describe_columna(accidentes_raw, 'NÚMERO')"
   ]
  },
  {
   "cell_type": "markdown",
   "metadata": {},
   "source": [
    "It might seem like a good idea to convert the “NUMBER” field to a numeric type, but let's first check how many values could be converted..."
   ]
  },
  {
   "cell_type": "code",
   "execution_count": 46,
   "metadata": {},
   "outputs": [
    {
     "data": {
      "text/plain": [
       "False    29306\n",
       "True     22496\n",
       "Name: NÚMERO, dtype: int64"
      ]
     },
     "execution_count": 46,
     "metadata": {},
     "output_type": "execute_result"
    }
   ],
   "source": [
    "# innumeric() tells us whether a value can be transformed into a numeric type or not.\n",
    "accidentes_raw['NÚMERO'].str.isnumeric().value_counts()"
   ]
  },
  {
   "cell_type": "markdown",
   "metadata": {},
   "source": [
    "More than half of the values cannot be converted to numbers. Let's check what these fields contain"
   ]
  },
  {
   "cell_type": "code",
   "execution_count": 47,
   "metadata": {},
   "outputs": [
    {
     "data": {
      "text/plain": [
       "-        28523\n",
       " 1A         68\n",
       " 5A         35\n",
       " 2A         30\n",
       " 259A       19\n",
       "         ...  \n",
       " 45A         1\n",
       " 7D          1\n",
       " 89A         1\n",
       "2O           1\n",
       " 334A        1\n",
       "Name: NÚMERO, Length: 161, dtype: int64"
      ]
     },
     "execution_count": 47,
     "metadata": {},
     "output_type": "execute_result"
    }
   ],
   "source": [
    "# we select the accident_raw records for which isnumeric() of the “NUMBER” field is false,\n",
    "# we keep that field, and count the most repeated values.\n",
    "accidentes_raw[accidentes_raw['NÚMERO'].str.isnumeric() == False]['NÚMERO'].value_counts()"
   ]
  },
  {
   "cell_type": "markdown",
   "metadata": {},
   "source": [
    "We see that, although the field is called “NUMBER”, it contains values that are text strings. We also see there that there is a very frequent value, the “-” character, which is used to indicate that no information is available (it has no additional meaning). It is always convenient to normalize the values corresponding to the missing data, and in this case, the best way to do it is to use the standard Pandas mechanism to mark missing data, the NaN values"
   ]
  },
  {
   "cell_type": "code",
   "execution_count": 48,
   "metadata": {},
   "outputs": [],
   "source": [
    "accidentes['Número'] = accidentes_raw['NÚMERO']\n",
    "accidentes.loc[accidentes['Número'] == '-', 'Número'] = np.NaN"
   ]
  },
  {
   "cell_type": "markdown",
   "metadata": {},
   "source": [
    "Next field..."
   ]
  },
  {
   "cell_type": "code",
   "execution_count": 49,
   "metadata": {},
   "outputs": [
    {
     "name": "stdout",
     "output_type": "stream",
     "text": [
      "Columna: DISTRITO  -  Tipo de datos: object\n",
      "Número de valores nulos: 5  -  Número de valores distintos: 21\n",
      "Valores más frecuentes:\n",
      "SALAMANCA \t 4078\n",
      "PUENTE DE VALLECAS \t 4063\n",
      "CHAMARTÍN \t 3891\n",
      "CARABANCHEL \t 3365\n",
      "CIUDAD LINEAL \t 3362\n",
      "SAN BLAS-CANILLEJAS \t 2797\n",
      "CENTRO \t 2752\n",
      "MONCLOA-ARAVACA \t 2688\n",
      "CHAMBERÍ \t 2680\n",
      "RETIRO \t 2671\n"
     ]
    }
   ],
   "source": [
    "describe_columna(accidentes_raw, 'DISTRITO')"
   ]
  },
  {
   "cell_type": "markdown",
   "metadata": {},
   "source": [
    "As the number of unique values of this field is small, and also the possible values are limited (there are no more districts in Madrid than these, any other value should not be accepted), it is convenient to convert the value to “category” type, as this reduces the storage needed, speeds up the calculations and facilitates the analysis."
   ]
  },
  {
   "cell_type": "code",
   "execution_count": 50,
   "metadata": {},
   "outputs": [],
   "source": [
    "accidentes['Distrito'] = accidentes_raw['DISTRITO'].astype('category')"
   ]
  },
  {
   "cell_type": "markdown",
   "metadata": {},
   "source": [
    "The following five fields present similar cases to the case of “DISTRITO”, and are treated in the same way"
   ]
  },
  {
   "cell_type": "code",
   "execution_count": 51,
   "metadata": {},
   "outputs": [
    {
     "name": "stdout",
     "output_type": "stream",
     "text": [
      "Columna: ESTADO METEREOLÓGICO  -  Tipo de datos: object\n",
      "Número de valores nulos: 5132  -  Número de valores distintos: 7\n",
      "Valores más frecuentes:\n",
      "Despejado \t 39984\n",
      "Lluvia débil \t 3465\n",
      "Nublado \t 1862\n",
      "Se desconoce \t 695\n",
      "LLuvia intensa \t 652\n",
      "Granizando \t 14\n",
      "Nevando \t 2\n",
      "\n",
      "Columna: TIPO VEHÍCULO  -  Tipo de datos: object\n",
      "Número de valores nulos: 178  -  Número de valores distintos: 29\n",
      "Valores más frecuentes:\n",
      "Turismo \t 36499\n",
      "Motocicleta > 125cc \t 3527\n",
      "Furgoneta \t 3125\n",
      "Motocicleta hasta 125cc \t 2529\n",
      "Autobús \t 1408\n",
      "Camión rígido \t 1167\n",
      "Bicicleta \t 884\n",
      "Ciclomotor \t 809\n",
      "Todo terreno \t 689\n",
      "Otros vehículos con motor \t 330\n",
      "\n",
      "Columna: TIPO PERSONA  -  Tipo de datos: object\n",
      "Número de valores nulos: 25  -  Número de valores distintos: 3\n",
      "Valores más frecuentes:\n",
      "Conductor \t 41604\n",
      "Pasajero \t 8357\n",
      "Peatón \t 1820\n",
      "\n",
      "Columna: RANGO EDAD  -  Tipo de datos: object\n",
      "Número de valores nulos: 0  -  Número de valores distintos: 18\n",
      "Valores más frecuentes:\n",
      "DE 40 A 44 AÑOS \t 5736\n",
      "DE 25 A 29 AÑOS \t 5610\n",
      "DE 35 A 39 AÑOS \t 5573\n",
      "DE 30 A 34 AÑOS \t 5463\n",
      "DESCONOCIDA \t 5333\n",
      "DE 45 A 49 AÑOS \t 4955\n",
      "DE 50 A 54 AÑOS \t 4258\n",
      "DE 21 A 24 AÑOS \t 3350\n",
      "DE 55 A 59 AÑOS \t 3265\n",
      "DE 60 A 64 AÑOS \t 2036\n",
      "\n",
      "Columna: SEXO  -  Tipo de datos: object\n",
      "Número de valores nulos: 5050  -  Número de valores distintos: 2\n",
      "Valores más frecuentes:\n",
      "Hombre \t 31466\n",
      "Mujer \t 15290\n",
      "\n"
     ]
    }
   ],
   "source": [
    "for col in accidentes_raw.columns[7:12].to_list():\n",
    "    describe_columna(accidentes_raw, col)\n",
    "    print()"
   ]
  },
  {
   "cell_type": "code",
   "execution_count": 52,
   "metadata": {},
   "outputs": [],
   "source": [
    "for col in accidentes_raw.columns[7:12].to_list():\n",
    "    accidentes[col.capitalize()] = accidentes_raw[col].astype('category')\n",
    "\n",
    "accidentes.loc[accidentes['Estado metereológico'] == 'Se desconoce', 'Estado metereológico'] = np.NaN\n",
    "\n",
    "accidentes.loc[accidentes['Rango edad'] == 'DESCONOCIDA', 'Rango edad'] = np.NaN"
   ]
  },
  {
   "cell_type": "markdown",
   "metadata": {},
   "source": [
    "A detail about the “Rango edad” field: when the values of a categorical field have a natural order, as in this case, it is convenient to represent them by means of an ordered categorical data type, because this facilitates the analysis, allows to make intervals, makes the graphs come out automatically ordered, etc. In this case, the automatic order assigned to the categories, which is alphabetical, does not coincide with the real order, so it has to be assigned manually."
   ]
  },
  {
   "cell_type": "code",
   "execution_count": 53,
   "metadata": {},
   "outputs": [],
   "source": [
    "rangos_edad = pd.CategoricalDtype(\n",
    "    ['DE 0 A 5 AÑOS', 'DE 6 A 9 AÑOS', 'DE 10 A 14 AÑOS', 'DE 15 A 17 AÑOS',\n",
    "     'DE 18 A 20 AÑOS', 'DE 21 A 24 AÑOS', 'DE 25 A 29 AÑOS', 'DE 30 A 34 AÑOS', \n",
    "     'DE 35 A 39 AÑOS', 'DE 40 A 44 AÑOS', 'DE 45 A 49 AÑOS', 'DE 50 A 54 AÑOS',\n",
    "     'DE 55 A 59 AÑOS', 'DE 60 A 64 AÑOS', 'DE 65 A 69 AÑOS', 'DE 70 A 74 AÑOS', \n",
    "     'MAYOR DE 74 AÑOS'],\n",
    "    ordered=True)\n",
    "\n",
    "accidentes['Rango edad'] = accidentes['Rango edad'].astype(rangos_edad)"
   ]
  },
  {
   "cell_type": "markdown",
   "metadata": {},
   "source": [
    "Last column..."
   ]
  },
  {
   "cell_type": "code",
   "execution_count": 54,
   "metadata": {},
   "outputs": [
    {
     "name": "stdout",
     "output_type": "stream",
     "text": [
      "Columna: LESIVIDAD*  -  Tipo de datos: float64\n",
      "Número de valores nulos: 21776  -  Número de valores distintos: 9\n",
      "Valores más frecuentes:\n",
      "14.0 \t 16599\n",
      "7.0 \t 7110\n",
      "2.0 \t 2157\n",
      "6.0 \t 1555\n",
      "1.0 \t 1320\n",
      "5.0 \t 715\n",
      "3.0 \t 539\n",
      "4.0 \t 34\n",
      "77.0 \t 1\n"
     ]
    }
   ],
   "source": [
    "describe_columna(accidentes_raw, 'LESIVIDAD*')"
   ]
  },
  {
   "cell_type": "markdown",
   "metadata": {},
   "source": [
    "The “LESIVIDAD” (lesivity) field presents an interesting case: the values are coded, and the key to understanding them is in the data explanation document. There the values are described in this way:\n",
    "\n",
    "Lesivity | Description\n",
    "--- | --- \n",
    "01        |  Emergency care without subsequent admission - LEVE\n",
    "02        |  Admission less than or equal to 24 hours - LEVE \n",
    "03        |  Admission more than 24 hours - GRAVE\n",
    "04        |  Deceased 24 hours - FALLECIDO\n",
    "05        |  Subsequent outpatient health care - LEVE\n",
    "06        |  Immediate health care at a health center or mutual insurance company - LEVE\n",
    "07        |  Health care only at the accident site - LEVE\n",
    "14        |  No health care\n",
    "77        |  Unkonwn\n",
    "En blanco |  No health care"
   ]
  },
  {
   "cell_type": "markdown",
   "metadata": {},
   "source": [
    "To normalize, we can first assign the blank values (read with NaN in accident_raw) to category 14, and the values of category 77 can be assigned as NaN, which is the way to represent missing or unknown data. Additionally, in order to have accessible the injury severity information, which is coded in a hidden way in the different injury categories, we can create an additional field with those values, which can also be a sorted category with the advantages that this has."
   ]
  },
  {
   "cell_type": "code",
   "execution_count": 55,
   "metadata": {},
   "outputs": [],
   "source": [
    "accidentes['Lesividad'] = accidentes_raw['LESIVIDAD*']"
   ]
  },
  {
   "cell_type": "code",
   "execution_count": 56,
   "metadata": {},
   "outputs": [],
   "source": [
    "accidentes.loc[accidentes['Lesividad'].isnull(), 'Lesividad']  = 14\n",
    "accidentes.loc[accidentes['Lesividad'] == 77, 'Lesividad'] = np.NaN"
   ]
  },
  {
   "cell_type": "code",
   "execution_count": 57,
   "metadata": {},
   "outputs": [],
   "source": [
    "# Definition of the categorical type for degrees of severity\n",
    "grados_gravedad = pd.CategoricalDtype(['Ileso', 'Leve', 'Grave', 'Fallecido'], ordered=True)\n",
    "\n",
    "# We define a dictionary that maps the values of Lesivity with those of Severity.\n",
    "# For convenience, we do not include the values corresponding to 'Mild', but use that \n",
    "# is used as the default value\n",
    "dict_gravedad = {14: 'Ileso', 3: 'Grave', 4: 'Fallecido'} \n",
    "\n",
    "# We generate a new field 'Gavedad' by calculating the value corresponding to the degree of Lesividad\n",
    "# of each case, and converting it to the ordered categorical type 'degrees_gravity'.\n",
    "accidentes['Gravedad'] = accidentes['Lesividad'].apply(\n",
    "    lambda x: dict_gravedad.get(x,'Leve')).astype(grados_gravedad)"
   ]
  },
  {
   "cell_type": "markdown",
   "metadata": {},
   "source": [
    "## Testing and analysis"
   ]
  },
  {
   "cell_type": "markdown",
   "metadata": {},
   "source": [
    "Once the data has been cleaned, we can check the generated dataframe..."
   ]
  },
  {
   "cell_type": "code",
   "execution_count": 58,
   "metadata": {},
   "outputs": [
    {
     "name": "stdout",
     "output_type": "stream",
     "text": [
      "<class 'pandas.core.frame.DataFrame'>\n",
      "RangeIndex: 51806 entries, 0 to 51805\n",
      "Data columns (total 12 columns):\n",
      " #   Column                Non-Null Count  Dtype         \n",
      "---  ------                --------------  -----         \n",
      " 0   Nº Expediente         51806 non-null  object        \n",
      " 1   Fecha                 51806 non-null  datetime64[ns]\n",
      " 2   Calle                 51806 non-null  object        \n",
      " 3   Número                23279 non-null  object        \n",
      " 4   Distrito              51801 non-null  category      \n",
      " 5   Estado metereológico  45979 non-null  category      \n",
      " 6   Tipo vehículo         51628 non-null  category      \n",
      " 7   Tipo persona          51781 non-null  category      \n",
      " 8   Rango edad            46473 non-null  category      \n",
      " 9   Sexo                  46756 non-null  category      \n",
      " 10  Lesividad             51805 non-null  float64       \n",
      " 11  Gravedad              51806 non-null  category      \n",
      "dtypes: category(7), datetime64[ns](1), float64(1), object(3)\n",
      "memory usage: 2.3+ MB\n"
     ]
    }
   ],
   "source": [
    "accidentes.info()"
   ]
  },
  {
   "cell_type": "markdown",
   "metadata": {},
   "source": [
    "... and proceed to exploratory analysis (e.g., by performing summations or making graphs to better understand the data)."
   ]
  },
  {
   "cell_type": "code",
   "execution_count": 59,
   "metadata": {},
   "outputs": [],
   "source": [
    "top10_vehiculos = accidentes['Tipo vehículo'].value_counts()[:10].index.tolist()"
   ]
  },
  {
   "cell_type": "code",
   "execution_count": 60,
   "metadata": {},
   "outputs": [
    {
     "data": {
      "text/html": [
       "<div>\n",
       "<style scoped>\n",
       "    .dataframe tbody tr th:only-of-type {\n",
       "        vertical-align: middle;\n",
       "    }\n",
       "\n",
       "    .dataframe tbody tr th {\n",
       "        vertical-align: top;\n",
       "    }\n",
       "\n",
       "    .dataframe thead th {\n",
       "        text-align: right;\n",
       "    }\n",
       "</style>\n",
       "<table border=\"1\" class=\"dataframe\">\n",
       "  <thead>\n",
       "    <tr style=\"text-align: right;\">\n",
       "      <th>Tipo persona</th>\n",
       "      <th>Conductor</th>\n",
       "      <th>Pasajero</th>\n",
       "      <th>Peatón</th>\n",
       "    </tr>\n",
       "    <tr>\n",
       "      <th>Tipo vehículo</th>\n",
       "      <th></th>\n",
       "      <th></th>\n",
       "      <th></th>\n",
       "    </tr>\n",
       "  </thead>\n",
       "  <tbody>\n",
       "    <tr>\n",
       "      <th>Turismo</th>\n",
       "      <td>28523</td>\n",
       "      <td>6734</td>\n",
       "      <td>1224</td>\n",
       "    </tr>\n",
       "    <tr>\n",
       "      <th>Motocicleta &gt; 125cc</th>\n",
       "      <td>3179</td>\n",
       "      <td>232</td>\n",
       "      <td>115</td>\n",
       "    </tr>\n",
       "    <tr>\n",
       "      <th>Furgoneta</th>\n",
       "      <td>2616</td>\n",
       "      <td>371</td>\n",
       "      <td>135</td>\n",
       "    </tr>\n",
       "    <tr>\n",
       "      <th>Motocicleta hasta 125cc</th>\n",
       "      <td>2282</td>\n",
       "      <td>166</td>\n",
       "      <td>80</td>\n",
       "    </tr>\n",
       "    <tr>\n",
       "      <th>Autobús</th>\n",
       "      <td>893</td>\n",
       "      <td>467</td>\n",
       "      <td>47</td>\n",
       "    </tr>\n",
       "    <tr>\n",
       "      <th>Camión rígido</th>\n",
       "      <td>1040</td>\n",
       "      <td>98</td>\n",
       "      <td>29</td>\n",
       "    </tr>\n",
       "    <tr>\n",
       "      <th>Bicicleta</th>\n",
       "      <td>800</td>\n",
       "      <td>5</td>\n",
       "      <td>79</td>\n",
       "    </tr>\n",
       "    <tr>\n",
       "      <th>Ciclomotor</th>\n",
       "      <td>726</td>\n",
       "      <td>64</td>\n",
       "      <td>18</td>\n",
       "    </tr>\n",
       "    <tr>\n",
       "      <th>Todo terreno</th>\n",
       "      <td>539</td>\n",
       "      <td>120</td>\n",
       "      <td>30</td>\n",
       "    </tr>\n",
       "    <tr>\n",
       "      <th>Otros vehículos con motor</th>\n",
       "      <td>283</td>\n",
       "      <td>26</td>\n",
       "      <td>21</td>\n",
       "    </tr>\n",
       "  </tbody>\n",
       "</table>\n",
       "</div>"
      ],
      "text/plain": [
       "Tipo persona               Conductor  Pasajero  Peatón\n",
       "Tipo vehículo                                         \n",
       "Turismo                        28523      6734    1224\n",
       "Motocicleta > 125cc             3179       232     115\n",
       "Furgoneta                       2616       371     135\n",
       "Motocicleta hasta 125cc         2282       166      80\n",
       "Autobús                          893       467      47\n",
       "Camión rígido                   1040        98      29\n",
       "Bicicleta                        800         5      79\n",
       "Ciclomotor                       726        64      18\n",
       "Todo terreno                     539       120      30\n",
       "Otros vehículos con motor        283        26      21"
      ]
     },
     "execution_count": 60,
     "metadata": {},
     "output_type": "execute_result"
    }
   ],
   "source": [
    "# Total number of accident victims by type of vehicle and role of the accident victim.\n",
    "# We group the records by the fields “Type of vehicle” and “Type of person”, \n",
    "# select the field “File No.”, count the number of records in each group, \n",
    "# put the data in the form of a cross table and filter rows,\n",
    "# count the number of records in each group, put the data in the form of a cross table and filter the rows\n",
    "# to select only those that correspond to the 10 most frequent vehicle types.\n",
    "\n",
    "accidentes.groupby(['Tipo vehículo', 'Tipo persona'])['Nº Expediente'].count().unstack().loc[top10_vehiculos]"
   ]
  },
  {
   "cell_type": "code",
   "execution_count": 61,
   "metadata": {},
   "outputs": [
    {
     "data": {
      "text/html": [
       "<style  type=\"text/css\" >\n",
       "</style><table id=\"T_f1fe90c8_a6c3_11ea_856a_8563639230a8\" ><thead>    <tr>        <th class=\"index_name level0\" >Sexo</th>        <th class=\"col_heading level0 col0\" >Hombre</th>        <th class=\"col_heading level0 col1\" >Mujer</th>    </tr>    <tr>        <th class=\"index_name level0\" >Tipo vehículo</th>        <th class=\"blank\" ></th>        <th class=\"blank\" ></th>    </tr></thead><tbody>\n",
       "                <tr>\n",
       "                        <th id=\"T_f1fe90c8_a6c3_11ea_856a_8563639230a8level0_row0\" class=\"row_heading level0 row0\" >Turismo</th>\n",
       "                        <td id=\"T_f1fe90c8_a6c3_11ea_856a_8563639230a8row0_col0\" class=\"data row0 col0\" >61.5%</td>\n",
       "                        <td id=\"T_f1fe90c8_a6c3_11ea_856a_8563639230a8row0_col1\" class=\"data row0 col1\" >38.5%</td>\n",
       "            </tr>\n",
       "            <tr>\n",
       "                        <th id=\"T_f1fe90c8_a6c3_11ea_856a_8563639230a8level0_row1\" class=\"row_heading level0 row1\" >Motocicleta > 125cc</th>\n",
       "                        <td id=\"T_f1fe90c8_a6c3_11ea_856a_8563639230a8row1_col0\" class=\"data row1 col0\" >84.0%</td>\n",
       "                        <td id=\"T_f1fe90c8_a6c3_11ea_856a_8563639230a8row1_col1\" class=\"data row1 col1\" >16.0%</td>\n",
       "            </tr>\n",
       "            <tr>\n",
       "                        <th id=\"T_f1fe90c8_a6c3_11ea_856a_8563639230a8level0_row2\" class=\"row_heading level0 row2\" >Furgoneta</th>\n",
       "                        <td id=\"T_f1fe90c8_a6c3_11ea_856a_8563639230a8row2_col0\" class=\"data row2 col0\" >85.7%</td>\n",
       "                        <td id=\"T_f1fe90c8_a6c3_11ea_856a_8563639230a8row2_col1\" class=\"data row2 col1\" >14.3%</td>\n",
       "            </tr>\n",
       "            <tr>\n",
       "                        <th id=\"T_f1fe90c8_a6c3_11ea_856a_8563639230a8level0_row3\" class=\"row_heading level0 row3\" >Motocicleta hasta 125cc</th>\n",
       "                        <td id=\"T_f1fe90c8_a6c3_11ea_856a_8563639230a8row3_col0\" class=\"data row3 col0\" >77.0%</td>\n",
       "                        <td id=\"T_f1fe90c8_a6c3_11ea_856a_8563639230a8row3_col1\" class=\"data row3 col1\" >23.0%</td>\n",
       "            </tr>\n",
       "            <tr>\n",
       "                        <th id=\"T_f1fe90c8_a6c3_11ea_856a_8563639230a8level0_row4\" class=\"row_heading level0 row4\" >Autobús</th>\n",
       "                        <td id=\"T_f1fe90c8_a6c3_11ea_856a_8563639230a8row4_col0\" class=\"data row4 col0\" >69.1%</td>\n",
       "                        <td id=\"T_f1fe90c8_a6c3_11ea_856a_8563639230a8row4_col1\" class=\"data row4 col1\" >30.9%</td>\n",
       "            </tr>\n",
       "            <tr>\n",
       "                        <th id=\"T_f1fe90c8_a6c3_11ea_856a_8563639230a8level0_row5\" class=\"row_heading level0 row5\" >Camión rígido</th>\n",
       "                        <td id=\"T_f1fe90c8_a6c3_11ea_856a_8563639230a8row5_col0\" class=\"data row5 col0\" >94.6%</td>\n",
       "                        <td id=\"T_f1fe90c8_a6c3_11ea_856a_8563639230a8row5_col1\" class=\"data row5 col1\" >5.4%</td>\n",
       "            </tr>\n",
       "            <tr>\n",
       "                        <th id=\"T_f1fe90c8_a6c3_11ea_856a_8563639230a8level0_row6\" class=\"row_heading level0 row6\" >Bicicleta</th>\n",
       "                        <td id=\"T_f1fe90c8_a6c3_11ea_856a_8563639230a8row6_col0\" class=\"data row6 col0\" >74.3%</td>\n",
       "                        <td id=\"T_f1fe90c8_a6c3_11ea_856a_8563639230a8row6_col1\" class=\"data row6 col1\" >25.7%</td>\n",
       "            </tr>\n",
       "            <tr>\n",
       "                        <th id=\"T_f1fe90c8_a6c3_11ea_856a_8563639230a8level0_row7\" class=\"row_heading level0 row7\" >Ciclomotor</th>\n",
       "                        <td id=\"T_f1fe90c8_a6c3_11ea_856a_8563639230a8row7_col0\" class=\"data row7 col0\" >75.0%</td>\n",
       "                        <td id=\"T_f1fe90c8_a6c3_11ea_856a_8563639230a8row7_col1\" class=\"data row7 col1\" >25.0%</td>\n",
       "            </tr>\n",
       "            <tr>\n",
       "                        <th id=\"T_f1fe90c8_a6c3_11ea_856a_8563639230a8level0_row8\" class=\"row_heading level0 row8\" >Todo terreno</th>\n",
       "                        <td id=\"T_f1fe90c8_a6c3_11ea_856a_8563639230a8row8_col0\" class=\"data row8 col0\" >66.6%</td>\n",
       "                        <td id=\"T_f1fe90c8_a6c3_11ea_856a_8563639230a8row8_col1\" class=\"data row8 col1\" >33.4%</td>\n",
       "            </tr>\n",
       "            <tr>\n",
       "                        <th id=\"T_f1fe90c8_a6c3_11ea_856a_8563639230a8level0_row9\" class=\"row_heading level0 row9\" >Otros vehículos con motor</th>\n",
       "                        <td id=\"T_f1fe90c8_a6c3_11ea_856a_8563639230a8row9_col0\" class=\"data row9 col0\" >71.0%</td>\n",
       "                        <td id=\"T_f1fe90c8_a6c3_11ea_856a_8563639230a8row9_col1\" class=\"data row9 col1\" >29.0%</td>\n",
       "            </tr>\n",
       "    </tbody></table>"
      ],
      "text/plain": [
       "<pandas.io.formats.style.Styler at 0x7f11f177f6d8>"
      ]
     },
     "execution_count": 61,
     "metadata": {},
     "output_type": "execute_result"
    }
   ],
   "source": [
    "# Percentage of accident victims by type of vehicle and sex\n",
    "# First we make a selection similar to the one in the previous point, and then, using the function apply,\n",
    "# we calculate the division of each value by the sum of values in that row, and display it formatted as a percentage.\n",
    "\n",
    "acc_por_sexo = accidentes.groupby(['Tipo vehículo', 'Sexo'])['Nº Expediente'].count().unstack().loc[top10_vehiculos]\n",
    "\n",
    "acc_por_sexo.apply(lambda x: x/x.sum(), axis=1).style.format(\"{:.1%}\")"
   ]
  },
  {
   "cell_type": "code",
   "execution_count": 62,
   "metadata": {},
   "outputs": [
    {
     "data": {
      "text/html": [
       "\n",
       "<div id=\"altair-viz-aae1e71d51034a0f8b3df80c9276d837\"></div>\n",
       "<script type=\"text/javascript\">\n",
       "  (function(spec, embedOpt){\n",
       "    let outputDiv = document.currentScript.previousElementSibling;\n",
       "    if (outputDiv.id !== \"altair-viz-aae1e71d51034a0f8b3df80c9276d837\") {\n",
       "      outputDiv = document.getElementById(\"altair-viz-aae1e71d51034a0f8b3df80c9276d837\");\n",
       "    }\n",
       "    const paths = {\n",
       "      \"vega\": \"https://cdn.jsdelivr.net/npm//vega@5?noext\",\n",
       "      \"vega-lib\": \"https://cdn.jsdelivr.net/npm//vega-lib?noext\",\n",
       "      \"vega-lite\": \"https://cdn.jsdelivr.net/npm//vega-lite@4.8.1?noext\",\n",
       "      \"vega-embed\": \"https://cdn.jsdelivr.net/npm//vega-embed@6?noext\",\n",
       "    };\n",
       "\n",
       "    function loadScript(lib) {\n",
       "      return new Promise(function(resolve, reject) {\n",
       "        var s = document.createElement('script');\n",
       "        s.src = paths[lib];\n",
       "        s.async = true;\n",
       "        s.onload = () => resolve(paths[lib]);\n",
       "        s.onerror = () => reject(`Error loading script: ${paths[lib]}`);\n",
       "        document.getElementsByTagName(\"head\")[0].appendChild(s);\n",
       "      });\n",
       "    }\n",
       "\n",
       "    function showError(err) {\n",
       "      outputDiv.innerHTML = `<div class=\"error\" style=\"color:red;\">${err}</div>`;\n",
       "      throw err;\n",
       "    }\n",
       "\n",
       "    function displayChart(vegaEmbed) {\n",
       "      vegaEmbed(outputDiv, spec, embedOpt)\n",
       "        .catch(err => showError(`Javascript Error: ${err.message}<br>This usually means there's a typo in your chart specification. See the javascript console for the full traceback.`));\n",
       "    }\n",
       "\n",
       "    if(typeof define === \"function\" && define.amd) {\n",
       "      requirejs.config({paths});\n",
       "      require([\"vega-embed\"], displayChart, err => showError(`Error loading script: ${err.message}`));\n",
       "    } else if (typeof vegaEmbed === \"function\") {\n",
       "      displayChart(vegaEmbed);\n",
       "    } else {\n",
       "      loadScript(\"vega\")\n",
       "        .then(() => loadScript(\"vega-lite\"))\n",
       "        .then(() => loadScript(\"vega-embed\"))\n",
       "        .catch(showError)\n",
       "        .then(() => displayChart(vegaEmbed));\n",
       "    }\n",
       "  })({\"config\": {\"view\": {\"continuousWidth\": 400, \"continuousHeight\": 300}}, \"data\": {\"name\": \"data-e817849fd0ba929f283acc18128d2816\"}, \"mark\": \"bar\", \"encoding\": {\"facet\": {\"type\": \"nominal\", \"field\": \"Sexo\", \"title\": null}, \"x\": {\"type\": \"ordinal\", \"field\": \"Rango edad\", \"sort\": [\"DE 0 A 5 A\\u00d1OS\", \"DE 6 A 9 A\\u00d1OS\", \"DE 10 A 14 A\\u00d1OS\", \"DE 15 A 17 A\\u00d1OS\", \"DE 18 A 20 A\\u00d1OS\", \"DE 21 A 24 A\\u00d1OS\", \"DE 25 A 29 A\\u00d1OS\", \"DE 30 A 34 A\\u00d1OS\", \"DE 35 A 39 A\\u00d1OS\", \"DE 40 A 44 A\\u00d1OS\", \"DE 45 A 49 A\\u00d1OS\", \"DE 50 A 54 A\\u00d1OS\", \"DE 55 A 59 A\\u00d1OS\", \"DE 60 A 64 A\\u00d1OS\", \"DE 65 A 69 A\\u00d1OS\", \"DE 70 A 74 A\\u00d1OS\", \"MAYOR DE 74 A\\u00d1OS\"], \"title\": null}, \"y\": {\"type\": \"quantitative\", \"field\": \"N\\u00ba Expediente\", \"title\": \"Numero de implicados\"}}, \"height\": 150, \"title\": \"Accidentes en Madrid durante 2019\", \"width\": 300, \"$schema\": \"https://vega.github.io/schema/vega-lite/v4.8.1.json\", \"datasets\": {\"data-e817849fd0ba929f283acc18128d2816\": [{\"Rango edad\": \"DE 0 A 5 A\\u00d1OS\", \"Sexo\": \"Hombre\", \"N\\u00ba Expediente\": 283}, {\"Rango edad\": \"DE 0 A 5 A\\u00d1OS\", \"Sexo\": \"Mujer\", \"N\\u00ba Expediente\": 237}, {\"Rango edad\": \"DE 6 A 9 A\\u00d1OS\", \"Sexo\": \"Hombre\", \"N\\u00ba Expediente\": 191}, {\"Rango edad\": \"DE 6 A 9 A\\u00d1OS\", \"Sexo\": \"Mujer\", \"N\\u00ba Expediente\": 184}, {\"Rango edad\": \"DE 10 A 14 A\\u00d1OS\", \"Sexo\": \"Hombre\", \"N\\u00ba Expediente\": 242}, {\"Rango edad\": \"DE 10 A 14 A\\u00d1OS\", \"Sexo\": \"Mujer\", \"N\\u00ba Expediente\": 251}, {\"Rango edad\": \"DE 15 A 17 A\\u00d1OS\", \"Sexo\": \"Hombre\", \"N\\u00ba Expediente\": 185}, {\"Rango edad\": \"DE 15 A 17 A\\u00d1OS\", \"Sexo\": \"Mujer\", \"N\\u00ba Expediente\": 159}, {\"Rango edad\": \"DE 18 A 20 A\\u00d1OS\", \"Sexo\": \"Hombre\", \"N\\u00ba Expediente\": 991}, {\"Rango edad\": \"DE 18 A 20 A\\u00d1OS\", \"Sexo\": \"Mujer\", \"N\\u00ba Expediente\": 543}, {\"Rango edad\": \"DE 21 A 24 A\\u00d1OS\", \"Sexo\": \"Hombre\", \"N\\u00ba Expediente\": 2258}, {\"Rango edad\": \"DE 21 A 24 A\\u00d1OS\", \"Sexo\": \"Mujer\", \"N\\u00ba Expediente\": 1092}, {\"Rango edad\": \"DE 25 A 29 A\\u00d1OS\", \"Sexo\": \"Hombre\", \"N\\u00ba Expediente\": 3620}, {\"Rango edad\": \"DE 25 A 29 A\\u00d1OS\", \"Sexo\": \"Mujer\", \"N\\u00ba Expediente\": 1989}, {\"Rango edad\": \"DE 30 A 34 A\\u00d1OS\", \"Sexo\": \"Hombre\", \"N\\u00ba Expediente\": 3637}, {\"Rango edad\": \"DE 30 A 34 A\\u00d1OS\", \"Sexo\": \"Mujer\", \"N\\u00ba Expediente\": 1825}, {\"Rango edad\": \"DE 35 A 39 A\\u00d1OS\", \"Sexo\": \"Hombre\", \"N\\u00ba Expediente\": 3829}, {\"Rango edad\": \"DE 35 A 39 A\\u00d1OS\", \"Sexo\": \"Mujer\", \"N\\u00ba Expediente\": 1744}, {\"Rango edad\": \"DE 40 A 44 A\\u00d1OS\", \"Sexo\": \"Hombre\", \"N\\u00ba Expediente\": 4022}, {\"Rango edad\": \"DE 40 A 44 A\\u00d1OS\", \"Sexo\": \"Mujer\", \"N\\u00ba Expediente\": 1714}, {\"Rango edad\": \"DE 45 A 49 A\\u00d1OS\", \"Sexo\": \"Hombre\", \"N\\u00ba Expediente\": 3381}, {\"Rango edad\": \"DE 45 A 49 A\\u00d1OS\", \"Sexo\": \"Mujer\", \"N\\u00ba Expediente\": 1574}, {\"Rango edad\": \"DE 50 A 54 A\\u00d1OS\", \"Sexo\": \"Hombre\", \"N\\u00ba Expediente\": 3014}, {\"Rango edad\": \"DE 50 A 54 A\\u00d1OS\", \"Sexo\": \"Mujer\", \"N\\u00ba Expediente\": 1244}, {\"Rango edad\": \"DE 55 A 59 A\\u00d1OS\", \"Sexo\": \"Hombre\", \"N\\u00ba Expediente\": 2350}, {\"Rango edad\": \"DE 55 A 59 A\\u00d1OS\", \"Sexo\": \"Mujer\", \"N\\u00ba Expediente\": 915}, {\"Rango edad\": \"DE 60 A 64 A\\u00d1OS\", \"Sexo\": \"Hombre\", \"N\\u00ba Expediente\": 1443}, {\"Rango edad\": \"DE 60 A 64 A\\u00d1OS\", \"Sexo\": \"Mujer\", \"N\\u00ba Expediente\": 593}, {\"Rango edad\": \"DE 65 A 69 A\\u00d1OS\", \"Sexo\": \"Hombre\", \"N\\u00ba Expediente\": 662}, {\"Rango edad\": \"DE 65 A 69 A\\u00d1OS\", \"Sexo\": \"Mujer\", \"N\\u00ba Expediente\": 372}, {\"Rango edad\": \"DE 70 A 74 A\\u00d1OS\", \"Sexo\": \"Hombre\", \"N\\u00ba Expediente\": 452}, {\"Rango edad\": \"DE 70 A 74 A\\u00d1OS\", \"Sexo\": \"Mujer\", \"N\\u00ba Expediente\": 278}, {\"Rango edad\": \"MAYOR DE 74 A\\u00d1OS\", \"Sexo\": \"Hombre\", \"N\\u00ba Expediente\": 707}, {\"Rango edad\": \"MAYOR DE 74 A\\u00d1OS\", \"Sexo\": \"Mujer\", \"N\\u00ba Expediente\": 489}]}}, {\"mode\": \"vega-lite\"});\n",
       "</script>"
      ],
      "text/plain": [
       "alt.Chart(...)"
      ]
     },
     "execution_count": 62,
     "metadata": {},
     "output_type": "execute_result"
    }
   ],
   "source": [
    "# Accident victims by gender and age range\n",
    "# We generate the data as follows: we group by age range and sex, select the field “File No.”, \n",
    "# count the number of records and reset the index,\n",
    "# we count the number of records and reset the index \n",
    "# (the latter, so that the “Age Range” and “Sex” data appear as columns of the dataset, not as levels of the index)\n",
    "# We then display the data in a bar chart trellis.\n",
    "\n",
    "data = accidentes.groupby(['Rango edad', 'Sexo'])['Nº Expediente'].count().reset_index()\n",
    "\n",
    "alt.Chart(data, width=300, height=150, title='Accidentes en Madrid durante 2019').mark_bar().encode(\n",
    "    x = alt.X('Rango edad:O', sort = rangos_edad.categories.to_list(), title = None),\n",
    "    y = alt.Y('Nº Expediente:Q', title = 'Numero de implicados'),\n",
    "    facet=alt.Facet('Sexo:N', title = None))"
   ]
  },
  {
   "cell_type": "code",
   "execution_count": 63,
   "metadata": {},
   "outputs": [
    {
     "data": {
      "text/html": [
       "\n",
       "<div id=\"altair-viz-fcdf5aae22f649388c5415950da6c9b3\"></div>\n",
       "<script type=\"text/javascript\">\n",
       "  (function(spec, embedOpt){\n",
       "    let outputDiv = document.currentScript.previousElementSibling;\n",
       "    if (outputDiv.id !== \"altair-viz-fcdf5aae22f649388c5415950da6c9b3\") {\n",
       "      outputDiv = document.getElementById(\"altair-viz-fcdf5aae22f649388c5415950da6c9b3\");\n",
       "    }\n",
       "    const paths = {\n",
       "      \"vega\": \"https://cdn.jsdelivr.net/npm//vega@5?noext\",\n",
       "      \"vega-lib\": \"https://cdn.jsdelivr.net/npm//vega-lib?noext\",\n",
       "      \"vega-lite\": \"https://cdn.jsdelivr.net/npm//vega-lite@4.8.1?noext\",\n",
       "      \"vega-embed\": \"https://cdn.jsdelivr.net/npm//vega-embed@6?noext\",\n",
       "    };\n",
       "\n",
       "    function loadScript(lib) {\n",
       "      return new Promise(function(resolve, reject) {\n",
       "        var s = document.createElement('script');\n",
       "        s.src = paths[lib];\n",
       "        s.async = true;\n",
       "        s.onload = () => resolve(paths[lib]);\n",
       "        s.onerror = () => reject(`Error loading script: ${paths[lib]}`);\n",
       "        document.getElementsByTagName(\"head\")[0].appendChild(s);\n",
       "      });\n",
       "    }\n",
       "\n",
       "    function showError(err) {\n",
       "      outputDiv.innerHTML = `<div class=\"error\" style=\"color:red;\">${err}</div>`;\n",
       "      throw err;\n",
       "    }\n",
       "\n",
       "    function displayChart(vegaEmbed) {\n",
       "      vegaEmbed(outputDiv, spec, embedOpt)\n",
       "        .catch(err => showError(`Javascript Error: ${err.message}<br>This usually means there's a typo in your chart specification. See the javascript console for the full traceback.`));\n",
       "    }\n",
       "\n",
       "    if(typeof define === \"function\" && define.amd) {\n",
       "      requirejs.config({paths});\n",
       "      require([\"vega-embed\"], displayChart, err => showError(`Error loading script: ${err.message}`));\n",
       "    } else if (typeof vegaEmbed === \"function\") {\n",
       "      displayChart(vegaEmbed);\n",
       "    } else {\n",
       "      loadScript(\"vega\")\n",
       "        .then(() => loadScript(\"vega-lite\"))\n",
       "        .then(() => loadScript(\"vega-embed\"))\n",
       "        .catch(showError)\n",
       "        .then(() => displayChart(vegaEmbed));\n",
       "    }\n",
       "  })({\"config\": {\"view\": {\"continuousWidth\": 400, \"continuousHeight\": 300}}, \"data\": {\"name\": \"data-118b85019255d845db0a5dd2352cb33b\"}, \"mark\": \"bar\", \"encoding\": {\"x\": {\"type\": \"nominal\", \"field\": \"Distrito\", \"sort\": \"-y\", \"title\": null}, \"y\": {\"type\": \"quantitative\", \"aggregate\": \"sum\", \"field\": \"N\\u00ba Expediente\", \"title\": \"Numero de accidentes\"}}, \"height\": 200, \"title\": \"Accidentes en Madrid durante 2019\", \"width\": 350, \"$schema\": \"https://vega.github.io/schema/vega-lite/v4.8.1.json\", \"datasets\": {\"data-118b85019255d845db0a5dd2352cb33b\": [{\"Distrito\": \"ARGANZUELA\", \"N\\u00ba Expediente\": 944}, {\"Distrito\": \"BARAJAS\", \"N\\u00ba Expediente\": 481}, {\"Distrito\": \"CARABANCHEL\", \"N\\u00ba Expediente\": 1346}, {\"Distrito\": \"CENTRO\", \"N\\u00ba Expediente\": 1320}, {\"Distrito\": \"CHAMART\\u00cdN\", \"N\\u00ba Expediente\": 1608}, {\"Distrito\": \"CHAMBER\\u00cd\", \"N\\u00ba Expediente\": 1209}, {\"Distrito\": \"CIUDAD LINEAL\", \"N\\u00ba Expediente\": 1343}, {\"Distrito\": \"FUENCARRAL-EL PARDO\", \"N\\u00ba Expediente\": 1111}, {\"Distrito\": \"HORTALEZA\", \"N\\u00ba Expediente\": 907}, {\"Distrito\": \"LATINA\", \"N\\u00ba Expediente\": 1063}, {\"Distrito\": \"MONCLOA-ARAVACA\", \"N\\u00ba Expediente\": 1192}, {\"Distrito\": \"MORATALAZ\", \"N\\u00ba Expediente\": 626}, {\"Distrito\": \"PUENTE DE VALLECAS\", \"N\\u00ba Expediente\": 1611}, {\"Distrito\": \"RETIRO\", \"N\\u00ba Expediente\": 1086}, {\"Distrito\": \"SALAMANCA\", \"N\\u00ba Expediente\": 1736}, {\"Distrito\": \"SAN BLAS-CANILLEJAS\", \"N\\u00ba Expediente\": 1107}, {\"Distrito\": \"TETU\\u00c1N\", \"N\\u00ba Expediente\": 1048}, {\"Distrito\": \"USERA\", \"N\\u00ba Expediente\": 742}, {\"Distrito\": \"VIC\\u00c1LVARO\", \"N\\u00ba Expediente\": 306}, {\"Distrito\": \"VILLA DE VALLECAS\", \"N\\u00ba Expediente\": 556}, {\"Distrito\": \"VILLAVERDE\", \"N\\u00ba Expediente\": 590}]}}, {\"mode\": \"vega-lite\"});\n",
       "</script>"
      ],
      "text/plain": [
       "alt.Chart(...)"
      ]
     },
     "execution_count": 63,
     "metadata": {},
     "output_type": "execute_result"
    }
   ],
   "source": [
    "# Accidents by district\n",
    "# We generate the data as follows: we group by district, select the field “File No.”,\n",
    "# count the number of unique records (to count accidents, not persons injured) and reset the index. \n",
    "# We then display the data in a simple bar chart (ordering the X coordinate, i.e. the districts,\n",
    "# in reverse order of the value of the Y-coordinate, i.e. the number of accidents)\n",
    "\n",
    "data = accidentes.groupby(['Distrito'])['Nº Expediente'].nunique().reset_index()\n",
    "\n",
    "alt.Chart(data, width=350, height=200, title='Accidentes en Madrid durante 2019').mark_bar().encode(\n",
    "    x = alt.X('Distrito:N', sort = '-y', title = None),\n",
    "    y = alt.Y('sum(Nº Expediente):Q', title = 'Numero de accidentes'))"
   ]
  }
 ],
 "metadata": {
  "kernelspec": {
   "display_name": "Python 3 (ipykernel)",
   "language": "python",
   "name": "python3"
  },
  "language_info": {
   "codemirror_mode": {
    "name": "ipython",
    "version": 3
   },
   "file_extension": ".py",
   "mimetype": "text/x-python",
   "name": "python",
   "nbconvert_exporter": "python",
   "pygments_lexer": "ipython3",
   "version": "3.7.12"
  }
 },
 "nbformat": 4,
 "nbformat_minor": 4
}
