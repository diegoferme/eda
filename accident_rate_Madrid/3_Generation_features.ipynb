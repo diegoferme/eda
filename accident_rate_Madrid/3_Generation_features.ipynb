{
 "cells": [
  {
   "cell_type": "markdown",
   "id": "9a1b3ea2",
   "metadata": {},
   "source": [
    "# Generation of features.\n",
    "\n",
    "This section presents an example, based on real data, of the application of some of the techniques described in the previous sections.\n",
    "\n",
    "We start from both traffic and accident data in the city of Madrid in the year 2019, whose import is described in the files *1_Access_binary_format_files* and *2_Format_standardization*.\n",
    "\n",
    "In the case of the traffic data, a feature already included in the original data is used which gives a good estimate of the level of traffic congestion, which is described on the website itself from which the data originates: the “degree of occupancy” of the street in question, which is a non-linear indicator generated from the number of vehicles crossing that street, the capacity of the street, the speed of passing vehicles and the speed limit (when few cars pass at a high speed congestion is very low, if many cars pass but still pass at high speed, congestion is low, when many cars pass and the speed decreases, there is some congestion, but when congestion is high, the speed is very low and the volume of cars decreases).\n",
    "\n",
    "Unfortunately the documentation does not explain the details of the formula for calculating that indicator.\n",
    "\n",
    "## First of all.\n",
    "\n",
    "We make a simple analysis of the accident hazard by vehicle types.\n",
    "\n",
    "To do this, we group accident data by vehicle type and severity, and generate a synthetic indicator that indicates the increase or decrease in the probability that the outcome of an accident is more minor or severe."
   ]
  },
  {
   "cell_type": "code",
   "execution_count": 1,
   "id": "5c9d34ec",
   "metadata": {},
   "outputs": [],
   "source": [
    "import pandas as pd\n",
    "import numpy as np\n",
    "import warnings\n",
    "warnings.filterwarnings('ignore')"
   ]
  },
  {
   "cell_type": "markdown",
   "id": "ad7552f3",
   "metadata": {},
   "source": [
    "**1. We read the previously saved clean crash data.**"
   ]
  },
  {
   "cell_type": "code",
   "execution_count": 2,
   "id": "78b50c70",
   "metadata": {},
   "outputs": [],
   "source": [
    "accidentes = pd.read_parquet('./accidentes1.parquet')"
   ]
  },
  {
   "cell_type": "markdown",
   "id": "c2f57407",
   "metadata": {},
   "source": [
    "**2. We calculate the number of people involved in accidents by type of vehicle and by severity (drivers only, not passengers).**"
   ]
  },
  {
   "cell_type": "code",
   "execution_count": 3,
   "id": "d478477b",
   "metadata": {},
   "outputs": [],
   "source": [
    "grav = accidentes[accidentes['tipo_persona'] == 'Conductor']\\\n",
    "    .groupby(['tipo_vehiculo', 'gravedad'])['num_expediente'].nunique()"
   ]
  },
  {
   "cell_type": "markdown",
   "id": "d844d09f",
   "metadata": {},
   "source": [
    "**3. We calculate the percentage of serious, minor, etc. accidents for the total number of accidents and for each type of vehicle.**"
   ]
  },
  {
   "cell_type": "code",
   "execution_count": 4,
   "id": "9d27af29",
   "metadata": {},
   "outputs": [],
   "source": [
    "grav_rel = grav.groupby('gravedad').sum()/grav.sum()\n",
    "grav_rel_veh = grav/grav.groupby('tipo_vehiculo').sum()"
   ]
  },
  {
   "cell_type": "markdown",
   "id": "406ec175",
   "metadata": {},
   "source": [
    "**4. We generated an indicator that compares the severity of accidents by type of vehicle with the overall severity.**"
   ]
  },
  {
   "cell_type": "code",
   "execution_count": 5,
   "id": "d048b458",
   "metadata": {},
   "outputs": [],
   "source": [
    "grav_ratio = (grav_rel_veh/grav_rel) - 1"
   ]
  },
  {
   "cell_type": "markdown",
   "id": "a390e488",
   "metadata": {},
   "source": [
    "**5. We selected the nine most common vehicle types and displayed the data in a table.**"
   ]
  },
  {
   "cell_type": "code",
   "execution_count": 6,
   "id": "c77057aa",
   "metadata": {},
   "outputs": [],
   "source": [
    "top_accidentes = accidentes['tipo_vehiculo'].value_counts().head(9).index.values"
   ]
  },
  {
   "cell_type": "code",
   "execution_count": 7,
   "id": "77b931c7",
   "metadata": {},
   "outputs": [
    {
     "data": {
      "text/html": [
       "<style  type=\"text/css\" >\n",
       "</style><table id=\"T_69c6c72c_2419_11ef_90c1_3c55768d3322\" ><thead>    <tr>        <th class=\"index_name level0\" >gravedad</th>        <th class=\"col_heading level0 col0\" >Ileso</th>        <th class=\"col_heading level0 col1\" >Leve</th>        <th class=\"col_heading level0 col2\" >Grave</th>        <th class=\"col_heading level0 col3\" >Fallecido</th>    </tr>    <tr>        <th class=\"index_name level0\" >tipo_vehiculo</th>        <th class=\"blank\" ></th>        <th class=\"blank\" ></th>        <th class=\"blank\" ></th>        <th class=\"blank\" ></th>    </tr></thead><tbody>\n",
       "                <tr>\n",
       "                        <th id=\"T_69c6c72c_2419_11ef_90c1_3c55768d3322level0_row0\" class=\"row_heading level0 row0\" >Turismo</th>\n",
       "                        <td id=\"T_69c6c72c_2419_11ef_90c1_3c55768d3322row0_col0\" class=\"data row0 col0\" >16%</td>\n",
       "                        <td id=\"T_69c6c72c_2419_11ef_90c1_3c55768d3322row0_col1\" class=\"data row0 col1\" >-44%</td>\n",
       "                        <td id=\"T_69c6c72c_2419_11ef_90c1_3c55768d3322row0_col2\" class=\"data row0 col2\" >-82%</td>\n",
       "                        <td id=\"T_69c6c72c_2419_11ef_90c1_3c55768d3322row0_col3\" class=\"data row0 col3\" >-91%</td>\n",
       "            </tr>\n",
       "            <tr>\n",
       "                        <th id=\"T_69c6c72c_2419_11ef_90c1_3c55768d3322level0_row1\" class=\"row_heading level0 row1\" >Motocicleta > 125cc</th>\n",
       "                        <td id=\"T_69c6c72c_2419_11ef_90c1_3c55768d3322row1_col0\" class=\"data row1 col0\" >-62%</td>\n",
       "                        <td id=\"T_69c6c72c_2419_11ef_90c1_3c55768d3322row1_col1\" class=\"data row1 col1\" >165%</td>\n",
       "                        <td id=\"T_69c6c72c_2419_11ef_90c1_3c55768d3322row1_col2\" class=\"data row1 col2\" >372%</td>\n",
       "                        <td id=\"T_69c6c72c_2419_11ef_90c1_3c55768d3322row1_col3\" class=\"data row1 col3\" >478%</td>\n",
       "            </tr>\n",
       "            <tr>\n",
       "                        <th id=\"T_69c6c72c_2419_11ef_90c1_3c55768d3322level0_row2\" class=\"row_heading level0 row2\" >Furgoneta</th>\n",
       "                        <td id=\"T_69c6c72c_2419_11ef_90c1_3c55768d3322row2_col0\" class=\"data row2 col0\" >24%</td>\n",
       "                        <td id=\"T_69c6c72c_2419_11ef_90c1_3c55768d3322row2_col1\" class=\"data row2 col1\" >-66%</td>\n",
       "                        <td id=\"T_69c6c72c_2419_11ef_90c1_3c55768d3322row2_col2\" class=\"data row2 col2\" >-96%</td>\n",
       "                        <td id=\"T_69c6c72c_2419_11ef_90c1_3c55768d3322row2_col3\" class=\"data row2 col3\" >-28%</td>\n",
       "            </tr>\n",
       "            <tr>\n",
       "                        <th id=\"T_69c6c72c_2419_11ef_90c1_3c55768d3322level0_row3\" class=\"row_heading level0 row3\" >Motocicleta hasta 125cc</th>\n",
       "                        <td id=\"T_69c6c72c_2419_11ef_90c1_3c55768d3322row3_col0\" class=\"data row3 col0\" >-70%</td>\n",
       "                        <td id=\"T_69c6c72c_2419_11ef_90c1_3c55768d3322row3_col1\" class=\"data row3 col1\" >191%</td>\n",
       "                        <td id=\"T_69c6c72c_2419_11ef_90c1_3c55768d3322row3_col2\" class=\"data row3 col2\" >253%</td>\n",
       "                        <td id=\"T_69c6c72c_2419_11ef_90c1_3c55768d3322row3_col3\" class=\"data row3 col3\" >299%</td>\n",
       "            </tr>\n",
       "            <tr>\n",
       "                        <th id=\"T_69c6c72c_2419_11ef_90c1_3c55768d3322level0_row4\" class=\"row_heading level0 row4\" >Autobús</th>\n",
       "                        <td id=\"T_69c6c72c_2419_11ef_90c1_3c55768d3322row4_col0\" class=\"data row4 col0\" >30%</td>\n",
       "                        <td id=\"T_69c6c72c_2419_11ef_90c1_3c55768d3322row4_col1\" class=\"data row4 col1\" >-83%</td>\n",
       "                        <td id=\"T_69c6c72c_2419_11ef_90c1_3c55768d3322row4_col2\" class=\"data row4 col2\" >-100%</td>\n",
       "                        <td id=\"T_69c6c72c_2419_11ef_90c1_3c55768d3322row4_col3\" class=\"data row4 col3\" >-100%</td>\n",
       "            </tr>\n",
       "            <tr>\n",
       "                        <th id=\"T_69c6c72c_2419_11ef_90c1_3c55768d3322level0_row5\" class=\"row_heading level0 row5\" >Camión rígido</th>\n",
       "                        <td id=\"T_69c6c72c_2419_11ef_90c1_3c55768d3322row5_col0\" class=\"data row5 col0\" >30%</td>\n",
       "                        <td id=\"T_69c6c72c_2419_11ef_90c1_3c55768d3322row5_col1\" class=\"data row5 col1\" >-84%</td>\n",
       "                        <td id=\"T_69c6c72c_2419_11ef_90c1_3c55768d3322row5_col2\" class=\"data row5 col2\" >-89%</td>\n",
       "                        <td id=\"T_69c6c72c_2419_11ef_90c1_3c55768d3322row5_col3\" class=\"data row5 col3\" >-100%</td>\n",
       "            </tr>\n",
       "            <tr>\n",
       "                        <th id=\"T_69c6c72c_2419_11ef_90c1_3c55768d3322level0_row6\" class=\"row_heading level0 row6\" >Bicicleta</th>\n",
       "                        <td id=\"T_69c6c72c_2419_11ef_90c1_3c55768d3322row6_col0\" class=\"data row6 col0\" >-68%</td>\n",
       "                        <td id=\"T_69c6c72c_2419_11ef_90c1_3c55768d3322row6_col1\" class=\"data row6 col1\" >188%</td>\n",
       "                        <td id=\"T_69c6c72c_2419_11ef_90c1_3c55768d3322row6_col2\" class=\"data row6 col2\" >222%</td>\n",
       "                        <td id=\"T_69c6c72c_2419_11ef_90c1_3c55768d3322row6_col3\" class=\"data row6 col3\" >128%</td>\n",
       "            </tr>\n",
       "            <tr>\n",
       "                        <th id=\"T_69c6c72c_2419_11ef_90c1_3c55768d3322level0_row7\" class=\"row_heading level0 row7\" >Ciclomotor</th>\n",
       "                        <td id=\"T_69c6c72c_2419_11ef_90c1_3c55768d3322row7_col0\" class=\"data row7 col0\" >-68%</td>\n",
       "                        <td id=\"T_69c6c72c_2419_11ef_90c1_3c55768d3322row7_col1\" class=\"data row7 col1\" >188%</td>\n",
       "                        <td id=\"T_69c6c72c_2419_11ef_90c1_3c55768d3322row7_col2\" class=\"data row7 col2\" >193%</td>\n",
       "                        <td id=\"T_69c6c72c_2419_11ef_90c1_3c55768d3322row7_col3\" class=\"data row7 col3\" >-100%</td>\n",
       "            </tr>\n",
       "            <tr>\n",
       "                        <th id=\"T_69c6c72c_2419_11ef_90c1_3c55768d3322level0_row8\" class=\"row_heading level0 row8\" >Todo terreno</th>\n",
       "                        <td id=\"T_69c6c72c_2419_11ef_90c1_3c55768d3322row8_col0\" class=\"data row8 col0\" >26%</td>\n",
       "                        <td id=\"T_69c6c72c_2419_11ef_90c1_3c55768d3322row8_col1\" class=\"data row8 col1\" >-73%</td>\n",
       "                        <td id=\"T_69c6c72c_2419_11ef_90c1_3c55768d3322row8_col2\" class=\"data row8 col2\" >-79%</td>\n",
       "                        <td id=\"T_69c6c72c_2419_11ef_90c1_3c55768d3322row8_col3\" class=\"data row8 col3\" >-100%</td>\n",
       "            </tr>\n",
       "    </tbody></table>"
      ],
      "text/plain": [
       "<pandas.io.formats.style.Styler at 0x27995ed8d88>"
      ]
     },
     "execution_count": 7,
     "metadata": {},
     "output_type": "execute_result"
    }
   ],
   "source": [
    "grav_ratio[top_accidentes].unstack(1).loc[top_accidentes].style.format('{:.0%}')"
   ]
  },
  {
   "cell_type": "markdown",
   "id": "3354840b",
   "metadata": {},
   "source": [
    "As might be expected, it can be seen from the data that motorcycle and bicycle riders are at much higher risk of serious injury than truck or SUV riders."
   ]
  },
  {
   "cell_type": "markdown",
   "id": "2bccc286",
   "metadata": {},
   "source": [
    "## Next...\n",
    "\n",
    "The traffic patterns in the city are analyzed.\n",
    "\n",
    "To do this, two features are created from the date and time data: the day of the week and the time of day.\n",
    "\n",
    "It is important to note that these are not simply subdivisions, but organize the data in different ways: the day of the week subdivision groups the data for all Mondays, all Tuesdays, etc. and the time of day subdivision groups the data from eight to nine for all days, from nine to ten for all days, etc.\n",
    "\n",
    "Then we group by these two new variables, average the congestion level and display it in a graph."
   ]
  },
  {
   "cell_type": "code",
   "execution_count": 8,
   "id": "a3a4e32e",
   "metadata": {},
   "outputs": [],
   "source": [
    "import altair as alt\n",
    "trafico = pd.read_parquet('./trafico.parquet')"
   ]
  },
  {
   "cell_type": "markdown",
   "id": "7a6e2410",
   "metadata": {},
   "source": [
    "**1. We generate the average of the street occupancy indicator as a function of two synthetic variables: time of day and day of the week.**"
   ]
  },
  {
   "cell_type": "code",
   "execution_count": 9,
   "id": "2076fe2a",
   "metadata": {},
   "outputs": [],
   "source": [
    "data = trafico.groupby([trafico.fecha.dt.hour, trafico.fecha.dt.dayofweek])\\\n",
    "    ['ocupacion'].mean().rename_axis(['hora','dia_semana']).reset_index()"
   ]
  },
  {
   "cell_type": "markdown",
   "id": "b7b475c9",
   "metadata": {},
   "source": [
    "**2. We create a simple heatmap to show the results.**"
   ]
  },
  {
   "cell_type": "code",
   "execution_count": 10,
   "id": "6ab68af0",
   "metadata": {},
   "outputs": [
    {
     "data": {
      "text/html": [
       "\n",
       "<div id=\"altair-viz-84b1860ca9774f1585de170710c893b1\"></div>\n",
       "<script type=\"text/javascript\">\n",
       "  (function(spec, embedOpt){\n",
       "    let outputDiv = document.currentScript.previousElementSibling;\n",
       "    if (outputDiv.id !== \"altair-viz-84b1860ca9774f1585de170710c893b1\") {\n",
       "      outputDiv = document.getElementById(\"altair-viz-84b1860ca9774f1585de170710c893b1\");\n",
       "    }\n",
       "    const paths = {\n",
       "      \"vega\": \"https://cdn.jsdelivr.net/npm//vega@5?noext\",\n",
       "      \"vega-lib\": \"https://cdn.jsdelivr.net/npm//vega-lib?noext\",\n",
       "      \"vega-lite\": \"https://cdn.jsdelivr.net/npm//vega-lite@4.8.1?noext\",\n",
       "      \"vega-embed\": \"https://cdn.jsdelivr.net/npm//vega-embed@6?noext\",\n",
       "    };\n",
       "\n",
       "    function loadScript(lib) {\n",
       "      return new Promise(function(resolve, reject) {\n",
       "        var s = document.createElement('script');\n",
       "        s.src = paths[lib];\n",
       "        s.async = true;\n",
       "        s.onload = () => resolve(paths[lib]);\n",
       "        s.onerror = () => reject(`Error loading script: ${paths[lib]}`);\n",
       "        document.getElementsByTagName(\"head\")[0].appendChild(s);\n",
       "      });\n",
       "    }\n",
       "\n",
       "    function showError(err) {\n",
       "      outputDiv.innerHTML = `<div class=\"error\" style=\"color:red;\">${err}</div>`;\n",
       "      throw err;\n",
       "    }\n",
       "\n",
       "    function displayChart(vegaEmbed) {\n",
       "      vegaEmbed(outputDiv, spec, embedOpt)\n",
       "        .catch(err => showError(`Javascript Error: ${err.message}<br>This usually means there's a typo in your chart specification. See the javascript console for the full traceback.`));\n",
       "    }\n",
       "\n",
       "    if(typeof define === \"function\" && define.amd) {\n",
       "      requirejs.config({paths});\n",
       "      require([\"vega-embed\"], displayChart, err => showError(`Error loading script: ${err.message}`));\n",
       "    } else if (typeof vegaEmbed === \"function\") {\n",
       "      displayChart(vegaEmbed);\n",
       "    } else {\n",
       "      loadScript(\"vega\")\n",
       "        .then(() => loadScript(\"vega-lite\"))\n",
       "        .then(() => loadScript(\"vega-embed\"))\n",
       "        .catch(showError)\n",
       "        .then(() => displayChart(vegaEmbed));\n",
       "    }\n",
       "  })({\"config\": {\"view\": {\"continuousWidth\": 400, \"continuousHeight\": 300}}, \"data\": {\"name\": \"data-c6c91552e7e25a89ec570d2bece0507d\"}, \"mark\": \"rect\", \"encoding\": {\"color\": {\"type\": \"quantitative\", \"field\": \"ocupacion\", \"legend\": null}, \"x\": {\"type\": \"ordinal\", \"field\": \"hora\"}, \"y\": {\"type\": \"ordinal\", \"field\": \"dia_semana\"}}, \"title\": \"Densidad de tr\\u00e1fico en Madrid 2019\", \"$schema\": \"https://vega.github.io/schema/vega-lite/v4.8.1.json\", \"datasets\": {\"data-c6c91552e7e25a89ec570d2bece0507d\": [{\"hora\": 0, \"dia_semana\": 0, \"ocupacion\": 2.0959345290490106}, {\"hora\": 0, \"dia_semana\": 1, \"ocupacion\": 1.7724678522242312}, {\"hora\": 0, \"dia_semana\": 2, \"ocupacion\": 2.02264408926722}, {\"hora\": 0, \"dia_semana\": 3, \"ocupacion\": 2.218080284195926}, {\"hora\": 0, \"dia_semana\": 4, \"ocupacion\": 2.4923666458441156}, {\"hora\": 0, \"dia_semana\": 5, \"ocupacion\": 2.986108143925753}, {\"hora\": 0, \"dia_semana\": 6, \"ocupacion\": 3.247219603418301}, {\"hora\": 1, \"dia_semana\": 0, \"ocupacion\": 1.260108436900769}, {\"hora\": 1, \"dia_semana\": 1, \"ocupacion\": 1.1859666183737834}, {\"hora\": 1, \"dia_semana\": 2, \"ocupacion\": 1.2553234147196748}, {\"hora\": 1, \"dia_semana\": 3, \"ocupacion\": 1.3299277173227368}, {\"hora\": 1, \"dia_semana\": 4, \"ocupacion\": 1.598832305824774}, {\"hora\": 1, \"dia_semana\": 5, \"ocupacion\": 2.3442805451589592}, {\"hora\": 1, \"dia_semana\": 6, \"ocupacion\": 2.628093729443317}, {\"hora\": 2, \"dia_semana\": 0, \"ocupacion\": 0.8762924632607029}, {\"hora\": 2, \"dia_semana\": 1, \"ocupacion\": 0.9109095769818812}, {\"hora\": 2, \"dia_semana\": 2, \"ocupacion\": 0.8897137168737863}, {\"hora\": 2, \"dia_semana\": 3, \"ocupacion\": 0.9020390134099231}, {\"hora\": 2, \"dia_semana\": 4, \"ocupacion\": 1.1094986975250365}, {\"hora\": 2, \"dia_semana\": 5, \"ocupacion\": 1.6781781914651825}, {\"hora\": 2, \"dia_semana\": 6, \"ocupacion\": 1.9088316541918209}, {\"hora\": 3, \"dia_semana\": 0, \"ocupacion\": 0.7214504679483247}, {\"hora\": 3, \"dia_semana\": 1, \"ocupacion\": 0.7615921170481217}, {\"hora\": 3, \"dia_semana\": 2, \"ocupacion\": 0.7395095701001607}, {\"hora\": 3, \"dia_semana\": 3, \"ocupacion\": 0.7564804391703744}, {\"hora\": 3, \"dia_semana\": 4, \"ocupacion\": 0.9048957512261592}, {\"hora\": 3, \"dia_semana\": 5, \"ocupacion\": 1.3071961974016661}, {\"hora\": 3, \"dia_semana\": 6, \"ocupacion\": 1.4666167419052878}, {\"hora\": 4, \"dia_semana\": 0, \"ocupacion\": 0.7022885870948539}, {\"hora\": 4, \"dia_semana\": 1, \"ocupacion\": 0.7396910113521273}, {\"hora\": 4, \"dia_semana\": 2, \"ocupacion\": 0.7021934519775517}, {\"hora\": 4, \"dia_semana\": 3, \"ocupacion\": 0.7446685510851314}, {\"hora\": 4, \"dia_semana\": 4, \"ocupacion\": 0.8475385803631847}, {\"hora\": 4, \"dia_semana\": 5, \"ocupacion\": 1.1032642446601164}, {\"hora\": 4, \"dia_semana\": 6, \"ocupacion\": 1.203964104044883}, {\"hora\": 5, \"dia_semana\": 0, \"ocupacion\": 0.925638615966385}, {\"hora\": 5, \"dia_semana\": 1, \"ocupacion\": 0.9347624424226014}, {\"hora\": 5, \"dia_semana\": 2, \"ocupacion\": 0.9084806599021764}, {\"hora\": 5, \"dia_semana\": 3, \"ocupacion\": 0.9486492195389608}, {\"hora\": 5, \"dia_semana\": 4, \"ocupacion\": 1.0306670092342531}, {\"hora\": 5, \"dia_semana\": 5, \"ocupacion\": 1.0963237348896995}, {\"hora\": 5, \"dia_semana\": 6, \"ocupacion\": 1.105312239571458}, {\"hora\": 6, \"dia_semana\": 0, \"ocupacion\": 2.6540509130023335}, {\"hora\": 6, \"dia_semana\": 1, \"ocupacion\": 2.652706556074841}, {\"hora\": 6, \"dia_semana\": 2, \"ocupacion\": 2.617665769970936}, {\"hora\": 6, \"dia_semana\": 3, \"ocupacion\": 2.6474836522427165}, {\"hora\": 6, \"dia_semana\": 4, \"ocupacion\": 2.6413306724878662}, {\"hora\": 6, \"dia_semana\": 5, \"ocupacion\": 1.6231798308535186}, {\"hora\": 6, \"dia_semana\": 6, \"ocupacion\": 1.4381878596647548}, {\"hora\": 7, \"dia_semana\": 0, \"ocupacion\": 8.04078070903425}, {\"hora\": 7, \"dia_semana\": 1, \"ocupacion\": 8.176632867522402}, {\"hora\": 7, \"dia_semana\": 2, \"ocupacion\": 8.057786700895715}, {\"hora\": 7, \"dia_semana\": 3, \"ocupacion\": 7.94228822467775}, {\"hora\": 7, \"dia_semana\": 4, \"ocupacion\": 7.573460854005266}, {\"hora\": 7, \"dia_semana\": 5, \"ocupacion\": 2.2379019710663766}, {\"hora\": 7, \"dia_semana\": 6, \"ocupacion\": 1.7805807637897997}, {\"hora\": 8, \"dia_semana\": 0, \"ocupacion\": 12.933467077930835}, {\"hora\": 8, \"dia_semana\": 1, \"ocupacion\": 13.325968699658997}, {\"hora\": 8, \"dia_semana\": 2, \"ocupacion\": 12.982848527829137}, {\"hora\": 8, \"dia_semana\": 3, \"ocupacion\": 12.763433587163714}, {\"hora\": 8, \"dia_semana\": 4, \"ocupacion\": 11.725001350478554}, {\"hora\": 8, \"dia_semana\": 5, \"ocupacion\": 2.8943871256494567}, {\"hora\": 8, \"dia_semana\": 6, \"ocupacion\": 1.9771732171239789}, {\"hora\": 9, \"dia_semana\": 0, \"ocupacion\": 12.392403638973784}, {\"hora\": 9, \"dia_semana\": 1, \"ocupacion\": 12.840420527504344}, {\"hora\": 9, \"dia_semana\": 2, \"ocupacion\": 12.636987606146553}, {\"hora\": 9, \"dia_semana\": 3, \"ocupacion\": 12.526483224659028}, {\"hora\": 9, \"dia_semana\": 4, \"ocupacion\": 10.699820893425247}, {\"hora\": 9, \"dia_semana\": 5, \"ocupacion\": 4.125372903949501}, {\"hora\": 9, \"dia_semana\": 6, \"ocupacion\": 2.549023203094584}, {\"hora\": 10, \"dia_semana\": 0, \"ocupacion\": 8.56801990023769}, {\"hora\": 10, \"dia_semana\": 1, \"ocupacion\": 8.90012398340016}, {\"hora\": 10, \"dia_semana\": 2, \"ocupacion\": 8.89414386850976}, {\"hora\": 10, \"dia_semana\": 3, \"ocupacion\": 8.916716536372673}, {\"hora\": 10, \"dia_semana\": 4, \"ocupacion\": 8.097289234409034}, {\"hora\": 10, \"dia_semana\": 5, \"ocupacion\": 5.405199829828958}, {\"hora\": 10, \"dia_semana\": 6, \"ocupacion\": 3.622860436668055}, {\"hora\": 11, \"dia_semana\": 0, \"ocupacion\": 7.888313703904377}, {\"hora\": 11, \"dia_semana\": 1, \"ocupacion\": 8.12693989658572}, {\"hora\": 11, \"dia_semana\": 2, \"ocupacion\": 8.113318251651485}, {\"hora\": 11, \"dia_semana\": 3, \"ocupacion\": 8.268062063149118}, {\"hora\": 11, \"dia_semana\": 4, \"ocupacion\": 8.06873345236823}, {\"hora\": 11, \"dia_semana\": 5, \"ocupacion\": 6.454848831388593}, {\"hora\": 11, \"dia_semana\": 6, \"ocupacion\": 5.000093480956014}, {\"hora\": 12, \"dia_semana\": 0, \"ocupacion\": 8.143278175379226}, {\"hora\": 12, \"dia_semana\": 1, \"ocupacion\": 8.410049701739455}, {\"hora\": 12, \"dia_semana\": 2, \"ocupacion\": 8.359488623529698}, {\"hora\": 12, \"dia_semana\": 3, \"ocupacion\": 8.533504127930739}, {\"hora\": 12, \"dia_semana\": 4, \"ocupacion\": 8.5580617181112}, {\"hora\": 12, \"dia_semana\": 5, \"ocupacion\": 7.308489246542361}, {\"hora\": 12, \"dia_semana\": 6, \"ocupacion\": 5.995891089115192}, {\"hora\": 13, \"dia_semana\": 0, \"ocupacion\": 8.22409939977102}, {\"hora\": 13, \"dia_semana\": 1, \"ocupacion\": 8.54238140307302}, {\"hora\": 13, \"dia_semana\": 2, \"ocupacion\": 8.55880365040985}, {\"hora\": 13, \"dia_semana\": 3, \"ocupacion\": 8.671069145629874}, {\"hora\": 13, \"dia_semana\": 4, \"ocupacion\": 9.196428522325586}, {\"hora\": 13, \"dia_semana\": 5, \"ocupacion\": 7.826691451496872}, {\"hora\": 13, \"dia_semana\": 6, \"ocupacion\": 6.781787001468582}, {\"hora\": 14, \"dia_semana\": 0, \"ocupacion\": 9.181141250076724}, {\"hora\": 14, \"dia_semana\": 1, \"ocupacion\": 9.610475679130566}, {\"hora\": 14, \"dia_semana\": 2, \"ocupacion\": 9.70246202301489}, {\"hora\": 14, \"dia_semana\": 3, \"ocupacion\": 9.779547145857226}, {\"hora\": 14, \"dia_semana\": 4, \"ocupacion\": 12.446764014658207}, {\"hora\": 14, \"dia_semana\": 5, \"ocupacion\": 8.004675069369883}, {\"hora\": 14, \"dia_semana\": 6, \"ocupacion\": 7.133352143024519}, {\"hora\": 15, \"dia_semana\": 0, \"ocupacion\": 9.18583939864765}, {\"hora\": 15, \"dia_semana\": 1, \"ocupacion\": 9.531630572912528}, {\"hora\": 15, \"dia_semana\": 2, \"ocupacion\": 9.564889279926998}, {\"hora\": 15, \"dia_semana\": 3, \"ocupacion\": 9.59517867319438}, {\"hora\": 15, \"dia_semana\": 4, \"ocupacion\": 13.809755739415923}, {\"hora\": 15, \"dia_semana\": 5, \"ocupacion\": 5.54926882245133}, {\"hora\": 15, \"dia_semana\": 6, \"ocupacion\": 4.948494063886316}, {\"hora\": 16, \"dia_semana\": 0, \"ocupacion\": 8.546843360897345}, {\"hora\": 16, \"dia_semana\": 1, \"ocupacion\": 8.897413469363018}, {\"hora\": 16, \"dia_semana\": 2, \"ocupacion\": 8.876282955635391}, {\"hora\": 16, \"dia_semana\": 3, \"ocupacion\": 8.997169604344315}, {\"hora\": 16, \"dia_semana\": 4, \"ocupacion\": 10.725116977844875}, {\"hora\": 16, \"dia_semana\": 5, \"ocupacion\": 4.438856253209285}, {\"hora\": 16, \"dia_semana\": 6, \"ocupacion\": 4.188297013258142}, {\"hora\": 17, \"dia_semana\": 0, \"ocupacion\": 9.721074102596635}, {\"hora\": 17, \"dia_semana\": 1, \"ocupacion\": 10.176324055702707}, {\"hora\": 17, \"dia_semana\": 2, \"ocupacion\": 10.235484718336632}, {\"hora\": 17, \"dia_semana\": 3, \"ocupacion\": 10.450951711418206}, {\"hora\": 17, \"dia_semana\": 4, \"ocupacion\": 10.138472406906363}, {\"hora\": 17, \"dia_semana\": 5, \"ocupacion\": 5.294288391319308}, {\"hora\": 17, \"dia_semana\": 6, \"ocupacion\": 5.337529787215589}, {\"hora\": 18, \"dia_semana\": 0, \"ocupacion\": 11.491384633728877}, {\"hora\": 18, \"dia_semana\": 1, \"ocupacion\": 11.96835818561544}, {\"hora\": 18, \"dia_semana\": 2, \"ocupacion\": 12.03728769010229}, {\"hora\": 18, \"dia_semana\": 3, \"ocupacion\": 12.230397622235653}, {\"hora\": 18, \"dia_semana\": 4, \"ocupacion\": 9.765146118715347}, {\"hora\": 18, \"dia_semana\": 5, \"ocupacion\": 6.314501084382081}, {\"hora\": 18, \"dia_semana\": 6, \"ocupacion\": 6.375421036664188}, {\"hora\": 19, \"dia_semana\": 0, \"ocupacion\": 11.202456336147238}, {\"hora\": 19, \"dia_semana\": 1, \"ocupacion\": 11.903294048889462}, {\"hora\": 19, \"dia_semana\": 2, \"ocupacion\": 11.922684915605073}, {\"hora\": 19, \"dia_semana\": 3, \"ocupacion\": 12.178197742762531}, {\"hora\": 19, \"dia_semana\": 4, \"ocupacion\": 9.014617188393085}, {\"hora\": 19, \"dia_semana\": 5, \"ocupacion\": 6.86043661904743}, {\"hora\": 19, \"dia_semana\": 6, \"ocupacion\": 6.631157107170447}, {\"hora\": 20, \"dia_semana\": 0, \"ocupacion\": 8.60668548665614}, {\"hora\": 20, \"dia_semana\": 1, \"ocupacion\": 9.452222124128758}, {\"hora\": 20, \"dia_semana\": 2, \"ocupacion\": 9.629616526806315}, {\"hora\": 20, \"dia_semana\": 3, \"ocupacion\": 9.911774263015442}, {\"hora\": 20, \"dia_semana\": 4, \"ocupacion\": 8.590891212717668}, {\"hora\": 20, \"dia_semana\": 5, \"ocupacion\": 6.988633155757954}, {\"hora\": 20, \"dia_semana\": 6, \"ocupacion\": 6.446219280326705}, {\"hora\": 21, \"dia_semana\": 0, \"ocupacion\": 6.334705020272017}, {\"hora\": 21, \"dia_semana\": 1, \"ocupacion\": 6.822163969307236}, {\"hora\": 21, \"dia_semana\": 2, \"ocupacion\": 6.9405919867618815}, {\"hora\": 21, \"dia_semana\": 3, \"ocupacion\": 7.459381206845359}, {\"hora\": 21, \"dia_semana\": 4, \"ocupacion\": 7.757159497287266}, {\"hora\": 21, \"dia_semana\": 5, \"ocupacion\": 6.6380044860190655}, {\"hora\": 21, \"dia_semana\": 6, \"ocupacion\": 5.819855524605068}, {\"hora\": 22, \"dia_semana\": 0, \"ocupacion\": 4.276180030721327}, {\"hora\": 22, \"dia_semana\": 1, \"ocupacion\": 4.423345600681101}, {\"hora\": 22, \"dia_semana\": 2, \"ocupacion\": 4.608395811135973}, {\"hora\": 22, \"dia_semana\": 3, \"ocupacion\": 4.976894467298104}, {\"hora\": 22, \"dia_semana\": 4, \"ocupacion\": 5.409263210269662}, {\"hora\": 22, \"dia_semana\": 5, \"ocupacion\": 5.150500175022317}, {\"hora\": 22, \"dia_semana\": 6, \"ocupacion\": 4.429298950782489}, {\"hora\": 23, \"dia_semana\": 0, \"ocupacion\": 2.71834955571543}, {\"hora\": 23, \"dia_semana\": 1, \"ocupacion\": 2.8981893489811545}, {\"hora\": 23, \"dia_semana\": 2, \"ocupacion\": 3.143543748852283}, {\"hora\": 23, \"dia_semana\": 3, \"ocupacion\": 3.337518701786533}, {\"hora\": 23, \"dia_semana\": 4, \"ocupacion\": 3.5955754667499766}, {\"hora\": 23, \"dia_semana\": 5, \"ocupacion\": 3.736422870145689}, {\"hora\": 23, \"dia_semana\": 6, \"ocupacion\": 3.1282066012814442}]}}, {\"mode\": \"vega-lite\"});\n",
       "</script>"
      ],
      "text/plain": [
       "alt.Chart(...)"
      ]
     },
     "execution_count": 10,
     "metadata": {},
     "output_type": "execute_result"
    }
   ],
   "source": [
    "alt.Chart(data).mark_rect().encode(\n",
    "    x = 'hora:O',\n",
    "    y = 'dia_semana:O',\n",
    "    color = alt.Color('ocupacion:Q', legend = None)).properties(title = 'Densidad de tráfico en Madrid 2019')"
   ]
  },
  {
   "cell_type": "markdown",
   "id": "3023d9f2",
   "metadata": {},
   "source": [
    "The peak hour between eight and nine o'clock in the morning on weekdays is clearly visible, and the afternoon peak hour shifts to three o'clock on Fridays."
   ]
  },
  {
   "cell_type": "markdown",
   "id": "80ec7ab5",
   "metadata": {},
   "source": [
    "## Finally,...\n",
    "\n",
    "In the last example, accident data is crossed with traffic data.\n",
    "\n",
    "Again, a specific indicator is created, which in this case indicates the relationship between the number of accidents and traffic intensity, to try to understand at what times traffic is more dangerous."
   ]
  },
  {
   "cell_type": "markdown",
   "id": "2b823691",
   "metadata": {},
   "source": [
    "**1. We generate accident and traffic intensity indicators.**"
   ]
  },
  {
   "cell_type": "code",
   "execution_count": 11,
   "id": "951030ba",
   "metadata": {},
   "outputs": [],
   "source": [
    "data_a = accidentes.groupby([accidentes.fecha.dt.hour, accidentes.fecha.dt.dayofweek])\\\n",
    "    ['num_expediente'].count().rename_axis(['hora', 'dia_semana'])"
   ]
  },
  {
   "cell_type": "code",
   "execution_count": 12,
   "id": "372d97bd",
   "metadata": {},
   "outputs": [],
   "source": [
    "data_t = trafico[trafico['tipo_elem'] == 'URB']\\\n",
    "    .groupby([trafico.fecha.dt.hour, trafico.fecha.dt.dayofweek])\\\n",
    "    ['carga'].mean().rename_axis(['hora', 'dia_semana'])"
   ]
  },
  {
   "cell_type": "markdown",
   "id": "dec41064",
   "metadata": {},
   "source": [
    "**2. With the data aligned, we make the ratio between the two indicators.**"
   ]
  },
  {
   "cell_type": "code",
   "execution_count": 13,
   "id": "361a2592",
   "metadata": {},
   "outputs": [],
   "source": [
    "data_at = (data_a/data_t).rename('Accidentalidad').reset_index()"
   ]
  },
  {
   "cell_type": "markdown",
   "id": "22539808",
   "metadata": {},
   "source": [
    "**3. We create a simple heatmap to display the results.**"
   ]
  },
  {
   "cell_type": "code",
   "execution_count": 14,
   "id": "008300f2",
   "metadata": {},
   "outputs": [
    {
     "data": {
      "text/html": [
       "\n",
       "<div id=\"altair-viz-44430c938da84fb7a1e98913cb3e0c01\"></div>\n",
       "<script type=\"text/javascript\">\n",
       "  (function(spec, embedOpt){\n",
       "    let outputDiv = document.currentScript.previousElementSibling;\n",
       "    if (outputDiv.id !== \"altair-viz-44430c938da84fb7a1e98913cb3e0c01\") {\n",
       "      outputDiv = document.getElementById(\"altair-viz-44430c938da84fb7a1e98913cb3e0c01\");\n",
       "    }\n",
       "    const paths = {\n",
       "      \"vega\": \"https://cdn.jsdelivr.net/npm//vega@5?noext\",\n",
       "      \"vega-lib\": \"https://cdn.jsdelivr.net/npm//vega-lib?noext\",\n",
       "      \"vega-lite\": \"https://cdn.jsdelivr.net/npm//vega-lite@4.8.1?noext\",\n",
       "      \"vega-embed\": \"https://cdn.jsdelivr.net/npm//vega-embed@6?noext\",\n",
       "    };\n",
       "\n",
       "    function loadScript(lib) {\n",
       "      return new Promise(function(resolve, reject) {\n",
       "        var s = document.createElement('script');\n",
       "        s.src = paths[lib];\n",
       "        s.async = true;\n",
       "        s.onload = () => resolve(paths[lib]);\n",
       "        s.onerror = () => reject(`Error loading script: ${paths[lib]}`);\n",
       "        document.getElementsByTagName(\"head\")[0].appendChild(s);\n",
       "      });\n",
       "    }\n",
       "\n",
       "    function showError(err) {\n",
       "      outputDiv.innerHTML = `<div class=\"error\" style=\"color:red;\">${err}</div>`;\n",
       "      throw err;\n",
       "    }\n",
       "\n",
       "    function displayChart(vegaEmbed) {\n",
       "      vegaEmbed(outputDiv, spec, embedOpt)\n",
       "        .catch(err => showError(`Javascript Error: ${err.message}<br>This usually means there's a typo in your chart specification. See the javascript console for the full traceback.`));\n",
       "    }\n",
       "\n",
       "    if(typeof define === \"function\" && define.amd) {\n",
       "      requirejs.config({paths});\n",
       "      require([\"vega-embed\"], displayChart, err => showError(`Error loading script: ${err.message}`));\n",
       "    } else if (typeof vegaEmbed === \"function\") {\n",
       "      displayChart(vegaEmbed);\n",
       "    } else {\n",
       "      loadScript(\"vega\")\n",
       "        .then(() => loadScript(\"vega-lite\"))\n",
       "        .then(() => loadScript(\"vega-embed\"))\n",
       "        .catch(showError)\n",
       "        .then(() => displayChart(vegaEmbed));\n",
       "    }\n",
       "  })({\"config\": {\"view\": {\"continuousWidth\": 400, \"continuousHeight\": 300}}, \"data\": {\"name\": \"data-fa29b47136c965480b4c6c4716d32e24\"}, \"mark\": \"rect\", \"encoding\": {\"color\": {\"type\": \"quantitative\", \"field\": \"Accidentalidad\", \"legend\": null, \"scale\": {\"scheme\": \"lightorange\"}}, \"x\": {\"type\": \"ordinal\", \"field\": \"hora\"}, \"y\": {\"type\": \"ordinal\", \"field\": \"dia_semana\"}}, \"title\": \"Relaci\\u00f3n entre accidentalidad y carga de tr\\u00e1fico\", \"$schema\": \"https://vega.github.io/schema/vega-lite/v4.8.1.json\", \"datasets\": {\"data-fa29b47136c965480b4c6c4716d32e24\": [{\"hora\": 0, \"dia_semana\": 0, \"Accidentalidad\": 15.020149614486476}, {\"hora\": 0, \"dia_semana\": 1, \"Accidentalidad\": 17.55589510430299}, {\"hora\": 0, \"dia_semana\": 2, \"Accidentalidad\": 17.52320296403887}, {\"hora\": 0, \"dia_semana\": 3, \"Accidentalidad\": 20.881907871078198}, {\"hora\": 0, \"dia_semana\": 4, \"Accidentalidad\": 20.448067442049155}, {\"hora\": 0, \"dia_semana\": 5, \"Accidentalidad\": 20.214481410415342}, {\"hora\": 0, \"dia_semana\": 6, \"Accidentalidad\": 18.20393890895552}, {\"hora\": 1, \"dia_semana\": 0, \"Accidentalidad\": 19.939415848016093}, {\"hora\": 1, \"dia_semana\": 1, \"Accidentalidad\": 16.473727923468754}, {\"hora\": 1, \"dia_semana\": 2, \"Accidentalidad\": 21.14757233916913}, {\"hora\": 1, \"dia_semana\": 3, \"Accidentalidad\": 16.550044659026216}, {\"hora\": 1, \"dia_semana\": 4, \"Accidentalidad\": 17.854299054884024}, {\"hora\": 1, \"dia_semana\": 5, \"Accidentalidad\": 15.988719596762337}, {\"hora\": 1, \"dia_semana\": 6, \"Accidentalidad\": 20.329537503438743}, {\"hora\": 2, \"dia_semana\": 0, \"Accidentalidad\": 17.49487614712034}, {\"hora\": 2, \"dia_semana\": 1, \"Accidentalidad\": 22.193146960804565}, {\"hora\": 2, \"dia_semana\": 2, \"Accidentalidad\": 29.561690176037096}, {\"hora\": 2, \"dia_semana\": 3, \"Accidentalidad\": 30.685137891613596}, {\"hora\": 2, \"dia_semana\": 4, \"Accidentalidad\": 21.49095687821371}, {\"hora\": 2, \"dia_semana\": 5, \"Accidentalidad\": 21.608549058485472}, {\"hora\": 2, \"dia_semana\": 6, \"Accidentalidad\": 21.859279628082927}, {\"hora\": 3, \"dia_semana\": 0, \"Accidentalidad\": 24.450398197759664}, {\"hora\": 3, \"dia_semana\": 1, \"Accidentalidad\": 26.56735775582296}, {\"hora\": 3, \"dia_semana\": 2, \"Accidentalidad\": 19.262394219188906}, {\"hora\": 3, \"dia_semana\": 3, \"Accidentalidad\": 19.72189633589894}, {\"hora\": 3, \"dia_semana\": 4, \"Accidentalidad\": 23.130087416424033}, {\"hora\": 3, \"dia_semana\": 5, \"Accidentalidad\": 22.927572834796166}, {\"hora\": 3, \"dia_semana\": 6, \"Accidentalidad\": 22.726419185686858}, {\"hora\": 4, \"dia_semana\": 0, \"Accidentalidad\": 12.040376578910411}, {\"hora\": 4, \"dia_semana\": 1, \"Accidentalidad\": 32.04324212859948}, {\"hora\": 4, \"dia_semana\": 2, \"Accidentalidad\": 15.407993486294437}, {\"hora\": 4, \"dia_semana\": 3, \"Accidentalidad\": 14.882272182791354}, {\"hora\": 4, \"dia_semana\": 4, \"Accidentalidad\": 23.328830918242115}, {\"hora\": 4, \"dia_semana\": 5, \"Accidentalidad\": 27.340948249476142}, {\"hora\": 4, \"dia_semana\": 6, \"Accidentalidad\": 22.378390153341687}, {\"hora\": 5, \"dia_semana\": 0, \"Accidentalidad\": 12.904268135427916}, {\"hora\": 5, \"dia_semana\": 1, \"Accidentalidad\": 21.46102790715043}, {\"hora\": 5, \"dia_semana\": 2, \"Accidentalidad\": 20.07259600483872}, {\"hora\": 5, \"dia_semana\": 3, \"Accidentalidad\": 16.59018424351792}, {\"hora\": 5, \"dia_semana\": 4, \"Accidentalidad\": 23.124859632615937}, {\"hora\": 5, \"dia_semana\": 5, \"Accidentalidad\": 29.334866965588837}, {\"hora\": 5, \"dia_semana\": 6, \"Accidentalidad\": 28.536626793904244}, {\"hora\": 6, \"dia_semana\": 0, \"Accidentalidad\": 10.61849765966887}, {\"hora\": 6, \"dia_semana\": 1, \"Accidentalidad\": 15.442549760662432}, {\"hora\": 6, \"dia_semana\": 2, \"Accidentalidad\": 15.347258983970484}, {\"hora\": 6, \"dia_semana\": 3, \"Accidentalidad\": 8.84734739395817}, {\"hora\": 6, \"dia_semana\": 4, \"Accidentalidad\": 14.783891953070746}, {\"hora\": 6, \"dia_semana\": 5, \"Accidentalidad\": 29.090936980156094}, {\"hora\": 6, \"dia_semana\": 6, \"Accidentalidad\": 31.404079263428844}, {\"hora\": 7, \"dia_semana\": 0, \"Accidentalidad\": 10.701981194098636}, {\"hora\": 7, \"dia_semana\": 1, \"Accidentalidad\": 11.1722607120129}, {\"hora\": 7, \"dia_semana\": 2, \"Accidentalidad\": 11.570094651410908}, {\"hora\": 7, \"dia_semana\": 3, \"Accidentalidad\": 12.117111223208656}, {\"hora\": 7, \"dia_semana\": 4, \"Accidentalidad\": 11.324621759083788}, {\"hora\": 7, \"dia_semana\": 5, \"Accidentalidad\": 24.869961882408866}, {\"hora\": 7, \"dia_semana\": 6, \"Accidentalidad\": 32.81046135251094}, {\"hora\": 8, \"dia_semana\": 0, \"Accidentalidad\": 12.527815385612664}, {\"hora\": 8, \"dia_semana\": 1, \"Accidentalidad\": 13.26389567720935}, {\"hora\": 8, \"dia_semana\": 2, \"Accidentalidad\": 12.579554272315356}, {\"hora\": 8, \"dia_semana\": 3, \"Accidentalidad\": 12.326177783532806}, {\"hora\": 8, \"dia_semana\": 4, \"Accidentalidad\": 12.92041395994562}, {\"hora\": 8, \"dia_semana\": 5, \"Accidentalidad\": 26.93687344988819}, {\"hora\": 8, \"dia_semana\": 6, \"Accidentalidad\": 34.82117578863313}, {\"hora\": 9, \"dia_semana\": 0, \"Accidentalidad\": 14.789207509876771}, {\"hora\": 9, \"dia_semana\": 1, \"Accidentalidad\": 14.61435829987632}, {\"hora\": 9, \"dia_semana\": 2, \"Accidentalidad\": 14.395034472920418}, {\"hora\": 9, \"dia_semana\": 3, \"Accidentalidad\": 15.477158191980731}, {\"hora\": 9, \"dia_semana\": 4, \"Accidentalidad\": 12.235994667880362}, {\"hora\": 9, \"dia_semana\": 5, \"Accidentalidad\": 16.698940830310864}, {\"hora\": 9, \"dia_semana\": 6, \"Accidentalidad\": 24.85919175082048}, {\"hora\": 10, \"dia_semana\": 0, \"Accidentalidad\": 13.069239446669958}, {\"hora\": 10, \"dia_semana\": 1, \"Accidentalidad\": 10.126908703512244}, {\"hora\": 10, \"dia_semana\": 2, \"Accidentalidad\": 12.910362199918035}, {\"hora\": 10, \"dia_semana\": 3, \"Accidentalidad\": 15.94935199790033}, {\"hora\": 10, \"dia_semana\": 4, \"Accidentalidad\": 12.750640155233569}, {\"hora\": 10, \"dia_semana\": 5, \"Accidentalidad\": 13.520626613505657}, {\"hora\": 10, \"dia_semana\": 6, \"Accidentalidad\": 18.528926166851935}, {\"hora\": 11, \"dia_semana\": 0, \"Accidentalidad\": 13.107441890578674}, {\"hora\": 11, \"dia_semana\": 1, \"Accidentalidad\": 10.889155949318555}, {\"hora\": 11, \"dia_semana\": 2, \"Accidentalidad\": 14.80545452876066}, {\"hora\": 11, \"dia_semana\": 3, \"Accidentalidad\": 11.577175468382505}, {\"hora\": 11, \"dia_semana\": 4, \"Accidentalidad\": 12.72038531767355}, {\"hora\": 11, \"dia_semana\": 5, \"Accidentalidad\": 13.522826684259512}, {\"hora\": 11, \"dia_semana\": 6, \"Accidentalidad\": 15.772864191142974}, {\"hora\": 12, \"dia_semana\": 0, \"Accidentalidad\": 12.408818951197793}, {\"hora\": 12, \"dia_semana\": 1, \"Accidentalidad\": 15.961334461480437}, {\"hora\": 12, \"dia_semana\": 2, \"Accidentalidad\": 16.024631067438893}, {\"hora\": 12, \"dia_semana\": 3, \"Accidentalidad\": 11.822331580256684}, {\"hora\": 12, \"dia_semana\": 4, \"Accidentalidad\": 13.752697897940985}, {\"hora\": 12, \"dia_semana\": 5, \"Accidentalidad\": 14.737107277877614}, {\"hora\": 12, \"dia_semana\": 6, \"Accidentalidad\": 20.381150276358117}, {\"hora\": 13, \"dia_semana\": 0, \"Accidentalidad\": 15.284090053201233}, {\"hora\": 13, \"dia_semana\": 1, \"Accidentalidad\": 16.238909707243184}, {\"hora\": 13, \"dia_semana\": 2, \"Accidentalidad\": 16.063750031695168}, {\"hora\": 13, \"dia_semana\": 3, \"Accidentalidad\": 14.405496812774336}, {\"hora\": 13, \"dia_semana\": 4, \"Accidentalidad\": 16.08247289981782}, {\"hora\": 13, \"dia_semana\": 5, \"Accidentalidad\": 15.1902475074684}, {\"hora\": 13, \"dia_semana\": 6, \"Accidentalidad\": 16.988499709211133}, {\"hora\": 14, \"dia_semana\": 0, \"Accidentalidad\": 17.6389554258871}, {\"hora\": 14, \"dia_semana\": 1, \"Accidentalidad\": 14.517750026647054}, {\"hora\": 14, \"dia_semana\": 2, \"Accidentalidad\": 16.97423273096301}, {\"hora\": 14, \"dia_semana\": 3, \"Accidentalidad\": 18.34786619247052}, {\"hora\": 14, \"dia_semana\": 4, \"Accidentalidad\": 17.74603923740032}, {\"hora\": 14, \"dia_semana\": 5, \"Accidentalidad\": 18.245916597914785}, {\"hora\": 14, \"dia_semana\": 6, \"Accidentalidad\": 18.06711766660894}, {\"hora\": 15, \"dia_semana\": 0, \"Accidentalidad\": 16.379240631128567}, {\"hora\": 15, \"dia_semana\": 1, \"Accidentalidad\": 15.240807381897818}, {\"hora\": 15, \"dia_semana\": 2, \"Accidentalidad\": 14.454937273241766}, {\"hora\": 15, \"dia_semana\": 3, \"Accidentalidad\": 14.508960406462034}, {\"hora\": 15, \"dia_semana\": 4, \"Accidentalidad\": 16.150041945590683}, {\"hora\": 15, \"dia_semana\": 5, \"Accidentalidad\": 20.150814793833568}, {\"hora\": 15, \"dia_semana\": 6, \"Accidentalidad\": 20.615016566725867}, {\"hora\": 16, \"dia_semana\": 0, \"Accidentalidad\": 16.606842071127822}, {\"hora\": 16, \"dia_semana\": 1, \"Accidentalidad\": 18.68903325175428}, {\"hora\": 16, \"dia_semana\": 2, \"Accidentalidad\": 15.429608656191531}, {\"hora\": 16, \"dia_semana\": 3, \"Accidentalidad\": 18.761410024674305}, {\"hora\": 16, \"dia_semana\": 4, \"Accidentalidad\": 18.934532047468675}, {\"hora\": 16, \"dia_semana\": 5, \"Accidentalidad\": 25.898625011751573}, {\"hora\": 16, \"dia_semana\": 6, \"Accidentalidad\": 27.74226776402152}, {\"hora\": 17, \"dia_semana\": 0, \"Accidentalidad\": 13.38839015372989}, {\"hora\": 17, \"dia_semana\": 1, \"Accidentalidad\": 17.50879313241251}, {\"hora\": 17, \"dia_semana\": 2, \"Accidentalidad\": 18.20379115024198}, {\"hora\": 17, \"dia_semana\": 3, \"Accidentalidad\": 17.282783089571858}, {\"hora\": 17, \"dia_semana\": 4, \"Accidentalidad\": 16.703135788441063}, {\"hora\": 17, \"dia_semana\": 5, \"Accidentalidad\": 22.648610597608275}, {\"hora\": 17, \"dia_semana\": 6, \"Accidentalidad\": 20.2413224983006}, {\"hora\": 18, \"dia_semana\": 0, \"Accidentalidad\": 15.948121441923922}, {\"hora\": 18, \"dia_semana\": 1, \"Accidentalidad\": 16.69724065008412}, {\"hora\": 18, \"dia_semana\": 2, \"Accidentalidad\": 18.14223072581696}, {\"hora\": 18, \"dia_semana\": 3, \"Accidentalidad\": 18.820224099890478}, {\"hora\": 18, \"dia_semana\": 4, \"Accidentalidad\": 19.14165367129037}, {\"hora\": 18, \"dia_semana\": 5, \"Accidentalidad\": 24.288823546682735}, {\"hora\": 18, \"dia_semana\": 6, \"Accidentalidad\": 19.61421606799589}, {\"hora\": 19, \"dia_semana\": 0, \"Accidentalidad\": 15.626320011569069}, {\"hora\": 19, \"dia_semana\": 1, \"Accidentalidad\": 16.483442635722835}, {\"hora\": 19, \"dia_semana\": 2, \"Accidentalidad\": 18.75902180555269}, {\"hora\": 19, \"dia_semana\": 3, \"Accidentalidad\": 17.58250396831967}, {\"hora\": 19, \"dia_semana\": 4, \"Accidentalidad\": 17.318222299081032}, {\"hora\": 19, \"dia_semana\": 5, \"Accidentalidad\": 22.037887445217144}, {\"hora\": 19, \"dia_semana\": 6, \"Accidentalidad\": 19.081609471197734}, {\"hora\": 20, \"dia_semana\": 0, \"Accidentalidad\": 13.463363015666523}, {\"hora\": 20, \"dia_semana\": 1, \"Accidentalidad\": 19.200661911200015}, {\"hora\": 20, \"dia_semana\": 2, \"Accidentalidad\": 17.269573399606674}, {\"hora\": 20, \"dia_semana\": 3, \"Accidentalidad\": 20.964673983133284}, {\"hora\": 20, \"dia_semana\": 4, \"Accidentalidad\": 17.496510371198163}, {\"hora\": 20, \"dia_semana\": 5, \"Accidentalidad\": 18.64189721196867}, {\"hora\": 20, \"dia_semana\": 6, \"Accidentalidad\": 19.684346862050667}, {\"hora\": 21, \"dia_semana\": 0, \"Accidentalidad\": 14.232154142282376}, {\"hora\": 21, \"dia_semana\": 1, \"Accidentalidad\": 18.395654836038627}, {\"hora\": 21, \"dia_semana\": 2, \"Accidentalidad\": 18.493827685357815}, {\"hora\": 21, \"dia_semana\": 3, \"Accidentalidad\": 21.1804397730358}, {\"hora\": 21, \"dia_semana\": 4, \"Accidentalidad\": 22.51790538922467}, {\"hora\": 21, \"dia_semana\": 5, \"Accidentalidad\": 17.746039906325315}, {\"hora\": 21, \"dia_semana\": 6, \"Accidentalidad\": 18.423993859075022}, {\"hora\": 22, \"dia_semana\": 0, \"Accidentalidad\": 14.904209447992848}, {\"hora\": 22, \"dia_semana\": 1, \"Accidentalidad\": 18.100295346944865}, {\"hora\": 22, \"dia_semana\": 2, \"Accidentalidad\": 17.23521741991955}, {\"hora\": 22, \"dia_semana\": 3, \"Accidentalidad\": 16.353548891414917}, {\"hora\": 22, \"dia_semana\": 4, \"Accidentalidad\": 16.856398458729146}, {\"hora\": 22, \"dia_semana\": 5, \"Accidentalidad\": 17.57880247409708}, {\"hora\": 22, \"dia_semana\": 6, \"Accidentalidad\": 22.613056295617596}, {\"hora\": 23, \"dia_semana\": 0, \"Accidentalidad\": 15.768902869027672}, {\"hora\": 23, \"dia_semana\": 1, \"Accidentalidad\": 17.411062819367313}, {\"hora\": 23, \"dia_semana\": 2, \"Accidentalidad\": 17.802467723815898}, {\"hora\": 23, \"dia_semana\": 3, \"Accidentalidad\": 19.560086032165966}, {\"hora\": 23, \"dia_semana\": 4, \"Accidentalidad\": 19.47764827454938}, {\"hora\": 23, \"dia_semana\": 5, \"Accidentalidad\": 20.888341798068222}, {\"hora\": 23, \"dia_semana\": 6, \"Accidentalidad\": 19.38133085352139}]}}, {\"mode\": \"vega-lite\"});\n",
       "</script>"
      ],
      "text/plain": [
       "alt.Chart(...)"
      ]
     },
     "execution_count": 14,
     "metadata": {},
     "output_type": "execute_result"
    }
   ],
   "source": [
    "alt.Chart(data_at).mark_rect().encode(\n",
    "    x = 'hora:O',\n",
    "    y = 'dia_semana:O',\n",
    "    color = alt.Color('Accidentalidad:Q',\n",
    "                         scale = alt.Scale(scheme = 'lightorange'), legend = None)\n",
    "    ).properties(title = 'Relación entre accidentalidad y carga de tráfico')"
   ]
  },
  {
   "cell_type": "markdown",
   "id": "586fbafe",
   "metadata": {},
   "source": [
    "It can be seen that, although the generated indicator has a lot of noise and probably shows some “artifacts” (errors introduced in the data processing), it is enough to draw some interesting conclusions: the most dangerous times for traffic are early mornings on weekends, and there is a peak of danger around four o'clock in the afternoon on Saturdays and Sundays (probably related to the return of copious meals with excess alcohol)."
   ]
  }
 ],
 "metadata": {
  "kernelspec": {
   "display_name": "Python 3 (ipykernel)",
   "language": "python",
   "name": "python3"
  },
  "language_info": {
   "codemirror_mode": {
    "name": "ipython",
    "version": 3
   },
   "file_extension": ".py",
   "mimetype": "text/x-python",
   "name": "python",
   "nbconvert_exporter": "python",
   "pygments_lexer": "ipython3",
   "version": "3.7.12"
  }
 },
 "nbformat": 4,
 "nbformat_minor": 5
}
